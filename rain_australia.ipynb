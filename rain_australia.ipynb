{
 "cells": [
  {
   "cell_type": "markdown",
   "metadata": {},
   "source": [
    "# Rain Prediction using Logistic Regression and K-NN"
   ]
  },
  {
   "cell_type": "markdown",
   "metadata": {},
   "source": [
    "<h2>Introduction</h2>"
   ]
  },
  {
   "cell_type": "markdown",
   "metadata": {},
   "source": [
    "<b>Logistic Regression</b> is machine learning classification algorithm which predict probability of categorical dependent variable. Logistic regression have the same concept with Linear regression, the different is Logistic Regression (Logit) used to predict observations to a discrete set of classes, whilst Linear Regression used to predict continous set of classes.<br>\n",
    "Generally,  Logistic Regression is used when the dependent variable(target) is categorical. Given ilustration below:<br>\n",
    "<img src=\"Capture.JPG\" width=\"500\" /><br>\n",
    "In this notebook, I implement Logistic Regression to predict whether tomorrow will rain or not in Australia by training a binary classification model."
   ]
  },
  {
   "cell_type": "markdown",
   "metadata": {},
   "source": [
    "<h2>Data Preparation</h2>"
   ]
  },
  {
   "cell_type": "markdown",
   "metadata": {},
   "source": [
    "<h4>Import library</h4>"
   ]
  },
  {
   "cell_type": "code",
   "execution_count": 153,
   "metadata": {
    "ExecuteTime": {
     "end_time": "2020-06-03T04:03:34.333184Z",
     "start_time": "2020-06-03T04:03:34.321176Z"
    }
   },
   "outputs": [],
   "source": [
    "import pandas as pd\n",
    "import numpy as np\n",
    "import seaborn as sns\n",
    "import matplotlib.pyplot as plt\n",
    "from sklearn.model_selection import train_test_split\n",
    "from sklearn.linear_model import LogisticRegression\n",
    "from sklearn.metrics import accuracy_score, f1_score, confusion_matrix, recall_score, classification_report\n",
    "import statsmodels.api as sm\n",
    "%matplotlib inline\n",
    "import warnings\n",
    "\n",
    "warnings.filterwarnings('ignore')\n",
    "\n",
    "pd.set_option('display.float_format', lambda x: '%.3f' % x)"
   ]
  },
  {
   "cell_type": "markdown",
   "metadata": {},
   "source": [
    "<h4>Read the data</h4>"
   ]
  },
  {
   "cell_type": "code",
   "execution_count": 154,
   "metadata": {
    "ExecuteTime": {
     "end_time": "2020-06-03T04:03:35.230076Z",
     "start_time": "2020-06-03T04:03:34.341190Z"
    }
   },
   "outputs": [],
   "source": [
    "data = pd.read_csv('data_input/weatherAUS.csv')"
   ]
  },
  {
   "cell_type": "code",
   "execution_count": 155,
   "metadata": {
    "ExecuteTime": {
     "end_time": "2020-06-03T04:03:35.268101Z",
     "start_time": "2020-06-03T04:03:35.233077Z"
    },
    "scrolled": true
   },
   "outputs": [
    {
     "data": {
      "text/html": [
       "<div>\n",
       "<style scoped>\n",
       "    .dataframe tbody tr th:only-of-type {\n",
       "        vertical-align: middle;\n",
       "    }\n",
       "\n",
       "    .dataframe tbody tr th {\n",
       "        vertical-align: top;\n",
       "    }\n",
       "\n",
       "    .dataframe thead th {\n",
       "        text-align: right;\n",
       "    }\n",
       "</style>\n",
       "<table border=\"1\" class=\"dataframe\">\n",
       "  <thead>\n",
       "    <tr style=\"text-align: right;\">\n",
       "      <th></th>\n",
       "      <th>Date</th>\n",
       "      <th>Location</th>\n",
       "      <th>MinTemp</th>\n",
       "      <th>MaxTemp</th>\n",
       "      <th>Rainfall</th>\n",
       "      <th>Evaporation</th>\n",
       "      <th>Sunshine</th>\n",
       "      <th>WindGustDir</th>\n",
       "      <th>WindGustSpeed</th>\n",
       "      <th>WindDir9am</th>\n",
       "      <th>...</th>\n",
       "      <th>Humidity3pm</th>\n",
       "      <th>Pressure9am</th>\n",
       "      <th>Pressure3pm</th>\n",
       "      <th>Cloud9am</th>\n",
       "      <th>Cloud3pm</th>\n",
       "      <th>Temp9am</th>\n",
       "      <th>Temp3pm</th>\n",
       "      <th>RainToday</th>\n",
       "      <th>RISK_MM</th>\n",
       "      <th>RainTomorrow</th>\n",
       "    </tr>\n",
       "  </thead>\n",
       "  <tbody>\n",
       "    <tr>\n",
       "      <th>0</th>\n",
       "      <td>2008-12-01</td>\n",
       "      <td>Albury</td>\n",
       "      <td>13.400</td>\n",
       "      <td>22.900</td>\n",
       "      <td>0.600</td>\n",
       "      <td>nan</td>\n",
       "      <td>nan</td>\n",
       "      <td>W</td>\n",
       "      <td>44.000</td>\n",
       "      <td>W</td>\n",
       "      <td>...</td>\n",
       "      <td>22.000</td>\n",
       "      <td>1007.700</td>\n",
       "      <td>1007.100</td>\n",
       "      <td>8.000</td>\n",
       "      <td>nan</td>\n",
       "      <td>16.900</td>\n",
       "      <td>21.800</td>\n",
       "      <td>No</td>\n",
       "      <td>0.000</td>\n",
       "      <td>No</td>\n",
       "    </tr>\n",
       "    <tr>\n",
       "      <th>1</th>\n",
       "      <td>2008-12-02</td>\n",
       "      <td>Albury</td>\n",
       "      <td>7.400</td>\n",
       "      <td>25.100</td>\n",
       "      <td>0.000</td>\n",
       "      <td>nan</td>\n",
       "      <td>nan</td>\n",
       "      <td>WNW</td>\n",
       "      <td>44.000</td>\n",
       "      <td>NNW</td>\n",
       "      <td>...</td>\n",
       "      <td>25.000</td>\n",
       "      <td>1010.600</td>\n",
       "      <td>1007.800</td>\n",
       "      <td>nan</td>\n",
       "      <td>nan</td>\n",
       "      <td>17.200</td>\n",
       "      <td>24.300</td>\n",
       "      <td>No</td>\n",
       "      <td>0.000</td>\n",
       "      <td>No</td>\n",
       "    </tr>\n",
       "    <tr>\n",
       "      <th>2</th>\n",
       "      <td>2008-12-03</td>\n",
       "      <td>Albury</td>\n",
       "      <td>12.900</td>\n",
       "      <td>25.700</td>\n",
       "      <td>0.000</td>\n",
       "      <td>nan</td>\n",
       "      <td>nan</td>\n",
       "      <td>WSW</td>\n",
       "      <td>46.000</td>\n",
       "      <td>W</td>\n",
       "      <td>...</td>\n",
       "      <td>30.000</td>\n",
       "      <td>1007.600</td>\n",
       "      <td>1008.700</td>\n",
       "      <td>nan</td>\n",
       "      <td>2.000</td>\n",
       "      <td>21.000</td>\n",
       "      <td>23.200</td>\n",
       "      <td>No</td>\n",
       "      <td>0.000</td>\n",
       "      <td>No</td>\n",
       "    </tr>\n",
       "    <tr>\n",
       "      <th>3</th>\n",
       "      <td>2008-12-04</td>\n",
       "      <td>Albury</td>\n",
       "      <td>9.200</td>\n",
       "      <td>28.000</td>\n",
       "      <td>0.000</td>\n",
       "      <td>nan</td>\n",
       "      <td>nan</td>\n",
       "      <td>NE</td>\n",
       "      <td>24.000</td>\n",
       "      <td>SE</td>\n",
       "      <td>...</td>\n",
       "      <td>16.000</td>\n",
       "      <td>1017.600</td>\n",
       "      <td>1012.800</td>\n",
       "      <td>nan</td>\n",
       "      <td>nan</td>\n",
       "      <td>18.100</td>\n",
       "      <td>26.500</td>\n",
       "      <td>No</td>\n",
       "      <td>1.000</td>\n",
       "      <td>No</td>\n",
       "    </tr>\n",
       "    <tr>\n",
       "      <th>4</th>\n",
       "      <td>2008-12-05</td>\n",
       "      <td>Albury</td>\n",
       "      <td>17.500</td>\n",
       "      <td>32.300</td>\n",
       "      <td>1.000</td>\n",
       "      <td>nan</td>\n",
       "      <td>nan</td>\n",
       "      <td>W</td>\n",
       "      <td>41.000</td>\n",
       "      <td>ENE</td>\n",
       "      <td>...</td>\n",
       "      <td>33.000</td>\n",
       "      <td>1010.800</td>\n",
       "      <td>1006.000</td>\n",
       "      <td>7.000</td>\n",
       "      <td>8.000</td>\n",
       "      <td>17.800</td>\n",
       "      <td>29.700</td>\n",
       "      <td>No</td>\n",
       "      <td>0.200</td>\n",
       "      <td>No</td>\n",
       "    </tr>\n",
       "  </tbody>\n",
       "</table>\n",
       "<p>5 rows × 24 columns</p>\n",
       "</div>"
      ],
      "text/plain": [
       "         Date Location  MinTemp  MaxTemp  Rainfall  Evaporation  Sunshine  \\\n",
       "0  2008-12-01   Albury   13.400   22.900     0.600          nan       nan   \n",
       "1  2008-12-02   Albury    7.400   25.100     0.000          nan       nan   \n",
       "2  2008-12-03   Albury   12.900   25.700     0.000          nan       nan   \n",
       "3  2008-12-04   Albury    9.200   28.000     0.000          nan       nan   \n",
       "4  2008-12-05   Albury   17.500   32.300     1.000          nan       nan   \n",
       "\n",
       "  WindGustDir  WindGustSpeed WindDir9am  ... Humidity3pm  Pressure9am  \\\n",
       "0           W         44.000          W  ...      22.000     1007.700   \n",
       "1         WNW         44.000        NNW  ...      25.000     1010.600   \n",
       "2         WSW         46.000          W  ...      30.000     1007.600   \n",
       "3          NE         24.000         SE  ...      16.000     1017.600   \n",
       "4           W         41.000        ENE  ...      33.000     1010.800   \n",
       "\n",
       "   Pressure3pm  Cloud9am  Cloud3pm  Temp9am  Temp3pm  RainToday  RISK_MM  \\\n",
       "0     1007.100     8.000       nan   16.900   21.800         No    0.000   \n",
       "1     1007.800       nan       nan   17.200   24.300         No    0.000   \n",
       "2     1008.700       nan     2.000   21.000   23.200         No    0.000   \n",
       "3     1012.800       nan       nan   18.100   26.500         No    1.000   \n",
       "4     1006.000     7.000     8.000   17.800   29.700         No    0.200   \n",
       "\n",
       "   RainTomorrow  \n",
       "0            No  \n",
       "1            No  \n",
       "2            No  \n",
       "3            No  \n",
       "4            No  \n",
       "\n",
       "[5 rows x 24 columns]"
      ]
     },
     "execution_count": 155,
     "metadata": {},
     "output_type": "execute_result"
    }
   ],
   "source": [
    "data.head()"
   ]
  },
  {
   "cell_type": "code",
   "execution_count": 156,
   "metadata": {
    "ExecuteTime": {
     "end_time": "2020-06-03T04:03:35.536292Z",
     "start_time": "2020-06-03T04:03:35.271106Z"
    }
   },
   "outputs": [
    {
     "data": {
      "text/plain": [
       "(142193, 24)"
      ]
     },
     "execution_count": 156,
     "metadata": {},
     "output_type": "execute_result"
    }
   ],
   "source": [
    "data.shape"
   ]
  },
  {
   "cell_type": "markdown",
   "metadata": {},
   "source": [
    "<h4>Variable description</h4>"
   ]
  },
  {
   "cell_type": "markdown",
   "metadata": {},
   "source": [
    "`Date`: The date of observation<br>\n",
    "`Location`: The common name of the location of the weather station<br>\n",
    "`MinTemp`: The minimum temperature in degrees celsius<br>\n",
    "`MaxTemp`: The maximum temperature in degrees celsius<br>\n",
    "`Rainfall`: The amount of rainfall recorded for the day in mm<br>\n",
    "`Evaporation`: The so-called Class A pan evaporation (mm) in the 24 hours to 9am<br>\n",
    "`Sunshine`: The number of hours of bright sunshine in the day.<br>\n",
    "`WindGustDir`: The direction of the strongest wind gust in the 24 hours to midnight<br>\n",
    "`WindGustSpeed`: The speed (km/h) of the strongest wind gust in the 24 hours to midnight<br>\n",
    "`WindDir9am`: Direction of the wind at 9am<br>\n",
    "`WinDir3pm`: Direction of the wind at 3pm<br>\n",
    "`WindSpeed9am`: Wind speed (km/hr) averaged over 10 minutes prior to 9am<br>\n",
    "`WindSpeed3pm`: Wind speed (km/hr) averaged over 10 minutes prior to 3pm<br>\n",
    "`Humidity9am`: Humidity (percent) at 9am<br>\n",
    "`Humidity3pm`: Humidity (percent) at 3pm<br>\n",
    "`Pressure9am`: Atmospheric pressure (hpa) reduced to mean sea level at 9am<br>\n",
    "`Pressure3pm`: Atmospheric pressure (hpa) reduced to mean sea level at 3pm<br>\n",
    "`Cloud9am`: Fraction of sky obscured by cloud at 9am<br>\n",
    "`Cloud3pm`: Fraction of sky obscured by cloud at 3pm<br>\n",
    "`Temp9am`: Temperature (degrees C) at 9am<br>\n",
    "`Temp3pm`: Temperature (degrees C) at 3pm<br>\n",
    "`RainToday`: Whether today rain or not<br>\n",
    "`RISK_MM`: The amount of next day rain in mm. Used to create response variable RainTomorrow. <br>\n",
    "`RainTomorrow`: The target variable. Did it rain tomorrow?"
   ]
  },
  {
   "cell_type": "code",
   "execution_count": 157,
   "metadata": {
    "ExecuteTime": {
     "end_time": "2020-06-03T04:03:35.734431Z",
     "start_time": "2020-06-03T04:03:35.539294Z"
    }
   },
   "outputs": [
    {
     "name": "stdout",
     "output_type": "stream",
     "text": [
      "<class 'pandas.core.frame.DataFrame'>\n",
      "RangeIndex: 142193 entries, 0 to 142192\n",
      "Data columns (total 24 columns):\n",
      " #   Column         Non-Null Count   Dtype  \n",
      "---  ------         --------------   -----  \n",
      " 0   Date           142193 non-null  object \n",
      " 1   Location       142193 non-null  object \n",
      " 2   MinTemp        141556 non-null  float64\n",
      " 3   MaxTemp        141871 non-null  float64\n",
      " 4   Rainfall       140787 non-null  float64\n",
      " 5   Evaporation    81350 non-null   float64\n",
      " 6   Sunshine       74377 non-null   float64\n",
      " 7   WindGustDir    132863 non-null  object \n",
      " 8   WindGustSpeed  132923 non-null  float64\n",
      " 9   WindDir9am     132180 non-null  object \n",
      " 10  WindDir3pm     138415 non-null  object \n",
      " 11  WindSpeed9am   140845 non-null  float64\n",
      " 12  WindSpeed3pm   139563 non-null  float64\n",
      " 13  Humidity9am    140419 non-null  float64\n",
      " 14  Humidity3pm    138583 non-null  float64\n",
      " 15  Pressure9am    128179 non-null  float64\n",
      " 16  Pressure3pm    128212 non-null  float64\n",
      " 17  Cloud9am       88536 non-null   float64\n",
      " 18  Cloud3pm       85099 non-null   float64\n",
      " 19  Temp9am        141289 non-null  float64\n",
      " 20  Temp3pm        139467 non-null  float64\n",
      " 21  RainToday      140787 non-null  object \n",
      " 22  RISK_MM        142193 non-null  float64\n",
      " 23  RainTomorrow   142193 non-null  object \n",
      "dtypes: float64(17), object(7)\n",
      "memory usage: 26.0+ MB\n"
     ]
    }
   ],
   "source": [
    "data.info()"
   ]
  },
  {
   "cell_type": "markdown",
   "metadata": {},
   "source": [
    "<h4>Drop unused variables</h4>"
   ]
  },
  {
   "cell_type": "markdown",
   "metadata": {},
   "source": [
    "In this steps, there are several variable need to removed :<br>\n",
    "1. Location : location is categorical variable which contains 49 levels, including it in the model will increase complexcity of the models and lead to model overfit.<br> \n",
    "2. Risk_MM : Risk_MM determine whether or not it rained to create the binary target. Since it contains information directly about the target variable, including it would leak the future information to the model<br>\n",
    "3. Date : date is represent date of observation, based on business case this variable contains less information to predict the target variable.\n"
   ]
  },
  {
   "cell_type": "code",
   "execution_count": 158,
   "metadata": {
    "ExecuteTime": {
     "end_time": "2020-06-03T04:03:35.820512Z",
     "start_time": "2020-06-03T04:03:35.736433Z"
    }
   },
   "outputs": [],
   "source": [
    "data.drop(['Location','RISK_MM','Date'], axis=1, inplace=True)"
   ]
  },
  {
   "cell_type": "markdown",
   "metadata": {},
   "source": [
    "<h3>Working with Categorical Data</h3>"
   ]
  },
  {
   "cell_type": "markdown",
   "metadata": {},
   "source": [
    "<h4>Fill missing value in categorical data with wording 'unknown'</h4>"
   ]
  },
  {
   "cell_type": "code",
   "execution_count": 159,
   "metadata": {
    "ExecuteTime": {
     "end_time": "2020-06-03T04:03:36.013882Z",
     "start_time": "2020-06-03T04:03:35.822494Z"
    }
   },
   "outputs": [],
   "source": [
    "data[['WindGustDir','WindDir9am','WindDir3pm','RainToday']] = \\\n",
    "data[['WindGustDir','WindDir9am','WindDir3pm','RainToday']].fillna('unknown')"
   ]
  },
  {
   "cell_type": "markdown",
   "metadata": {},
   "source": [
    "<h4>Change Data Types</h4>"
   ]
  },
  {
   "cell_type": "code",
   "execution_count": 160,
   "metadata": {
    "ExecuteTime": {
     "end_time": "2020-06-03T04:03:36.198074Z",
     "start_time": "2020-06-03T04:03:36.015733Z"
    }
   },
   "outputs": [],
   "source": [
    "data[['WindGustDir','WindDir9am','WindDir3pm','RainToday','RainTomorrow']] = \\\n",
    "data[['WindGustDir','WindDir9am','WindDir3pm','RainToday','RainTomorrow']].astype('category')"
   ]
  },
  {
   "cell_type": "markdown",
   "metadata": {},
   "source": [
    "<h4>Check categorical level</h4>"
   ]
  },
  {
   "cell_type": "code",
   "execution_count": 161,
   "metadata": {
    "ExecuteTime": {
     "end_time": "2020-06-03T04:03:36.274771Z",
     "start_time": "2020-06-03T04:03:36.203026Z"
    }
   },
   "outputs": [],
   "source": [
    "categorical = data[['WindGustDir','WindDir9am','WindDir3pm','RainToday','RainTomorrow']]"
   ]
  },
  {
   "cell_type": "code",
   "execution_count": 162,
   "metadata": {
    "ExecuteTime": {
     "end_time": "2020-06-03T04:03:36.442061Z",
     "start_time": "2020-06-03T04:03:36.277775Z"
    }
   },
   "outputs": [
    {
     "name": "stdout",
     "output_type": "stream",
     "text": [
      "WindGustDir contains 17  labels\n",
      "WindDir9am contains 17  labels\n",
      "WindDir3pm contains 17  labels\n",
      "RainToday contains 3  labels\n",
      "RainTomorrow contains 2  labels\n"
     ]
    }
   ],
   "source": [
    "for var in categorical:\n",
    "    print(var,'contains',len(data[var].unique()), ' labels')"
   ]
  },
  {
   "cell_type": "markdown",
   "metadata": {},
   "source": [
    "<h3>Working with Numerical Data</h3>"
   ]
  },
  {
   "cell_type": "code",
   "execution_count": 163,
   "metadata": {
    "ExecuteTime": {
     "end_time": "2020-06-03T04:03:36.538138Z",
     "start_time": "2020-06-03T04:03:36.445048Z"
    }
   },
   "outputs": [],
   "source": [
    "numerical = data.select_dtypes(include='number')"
   ]
  },
  {
   "cell_type": "code",
   "execution_count": 164,
   "metadata": {
    "ExecuteTime": {
     "end_time": "2020-06-03T04:03:36.825366Z",
     "start_time": "2020-06-03T04:03:36.540539Z"
    },
    "scrolled": true
   },
   "outputs": [
    {
     "data": {
      "text/html": [
       "<div>\n",
       "<style scoped>\n",
       "    .dataframe tbody tr th:only-of-type {\n",
       "        vertical-align: middle;\n",
       "    }\n",
       "\n",
       "    .dataframe tbody tr th {\n",
       "        vertical-align: top;\n",
       "    }\n",
       "\n",
       "    .dataframe thead th {\n",
       "        text-align: right;\n",
       "    }\n",
       "</style>\n",
       "<table border=\"1\" class=\"dataframe\">\n",
       "  <thead>\n",
       "    <tr style=\"text-align: right;\">\n",
       "      <th></th>\n",
       "      <th>MinTemp</th>\n",
       "      <th>MaxTemp</th>\n",
       "      <th>Rainfall</th>\n",
       "      <th>Evaporation</th>\n",
       "      <th>Sunshine</th>\n",
       "      <th>WindGustSpeed</th>\n",
       "      <th>WindSpeed9am</th>\n",
       "      <th>WindSpeed3pm</th>\n",
       "      <th>Humidity9am</th>\n",
       "      <th>Humidity3pm</th>\n",
       "      <th>Pressure9am</th>\n",
       "      <th>Pressure3pm</th>\n",
       "      <th>Cloud9am</th>\n",
       "      <th>Cloud3pm</th>\n",
       "      <th>Temp9am</th>\n",
       "      <th>Temp3pm</th>\n",
       "    </tr>\n",
       "  </thead>\n",
       "  <tbody>\n",
       "    <tr>\n",
       "      <th>count</th>\n",
       "      <td>141556.000</td>\n",
       "      <td>141871.000</td>\n",
       "      <td>140787.000</td>\n",
       "      <td>81350.000</td>\n",
       "      <td>74377.000</td>\n",
       "      <td>132923.000</td>\n",
       "      <td>140845.000</td>\n",
       "      <td>139563.000</td>\n",
       "      <td>140419.000</td>\n",
       "      <td>138583.000</td>\n",
       "      <td>128179.000</td>\n",
       "      <td>128212.000</td>\n",
       "      <td>88536.000</td>\n",
       "      <td>85099.000</td>\n",
       "      <td>141289.000</td>\n",
       "      <td>139467.000</td>\n",
       "    </tr>\n",
       "    <tr>\n",
       "      <th>mean</th>\n",
       "      <td>12.186</td>\n",
       "      <td>23.227</td>\n",
       "      <td>2.350</td>\n",
       "      <td>5.470</td>\n",
       "      <td>7.625</td>\n",
       "      <td>39.984</td>\n",
       "      <td>14.002</td>\n",
       "      <td>18.638</td>\n",
       "      <td>68.844</td>\n",
       "      <td>51.483</td>\n",
       "      <td>1017.654</td>\n",
       "      <td>1015.258</td>\n",
       "      <td>4.437</td>\n",
       "      <td>4.503</td>\n",
       "      <td>16.988</td>\n",
       "      <td>21.687</td>\n",
       "    </tr>\n",
       "    <tr>\n",
       "      <th>std</th>\n",
       "      <td>6.403</td>\n",
       "      <td>7.118</td>\n",
       "      <td>8.465</td>\n",
       "      <td>4.189</td>\n",
       "      <td>3.782</td>\n",
       "      <td>13.589</td>\n",
       "      <td>8.893</td>\n",
       "      <td>8.803</td>\n",
       "      <td>19.051</td>\n",
       "      <td>20.798</td>\n",
       "      <td>7.105</td>\n",
       "      <td>7.037</td>\n",
       "      <td>2.887</td>\n",
       "      <td>2.721</td>\n",
       "      <td>6.493</td>\n",
       "      <td>6.938</td>\n",
       "    </tr>\n",
       "    <tr>\n",
       "      <th>min</th>\n",
       "      <td>-8.500</td>\n",
       "      <td>-4.800</td>\n",
       "      <td>0.000</td>\n",
       "      <td>0.000</td>\n",
       "      <td>0.000</td>\n",
       "      <td>6.000</td>\n",
       "      <td>0.000</td>\n",
       "      <td>0.000</td>\n",
       "      <td>0.000</td>\n",
       "      <td>0.000</td>\n",
       "      <td>980.500</td>\n",
       "      <td>977.100</td>\n",
       "      <td>0.000</td>\n",
       "      <td>0.000</td>\n",
       "      <td>-7.200</td>\n",
       "      <td>-5.400</td>\n",
       "    </tr>\n",
       "    <tr>\n",
       "      <th>25%</th>\n",
       "      <td>7.600</td>\n",
       "      <td>17.900</td>\n",
       "      <td>0.000</td>\n",
       "      <td>2.600</td>\n",
       "      <td>4.900</td>\n",
       "      <td>31.000</td>\n",
       "      <td>7.000</td>\n",
       "      <td>13.000</td>\n",
       "      <td>57.000</td>\n",
       "      <td>37.000</td>\n",
       "      <td>1012.900</td>\n",
       "      <td>1010.400</td>\n",
       "      <td>1.000</td>\n",
       "      <td>2.000</td>\n",
       "      <td>12.300</td>\n",
       "      <td>16.600</td>\n",
       "    </tr>\n",
       "    <tr>\n",
       "      <th>50%</th>\n",
       "      <td>12.000</td>\n",
       "      <td>22.600</td>\n",
       "      <td>0.000</td>\n",
       "      <td>4.800</td>\n",
       "      <td>8.500</td>\n",
       "      <td>39.000</td>\n",
       "      <td>13.000</td>\n",
       "      <td>19.000</td>\n",
       "      <td>70.000</td>\n",
       "      <td>52.000</td>\n",
       "      <td>1017.600</td>\n",
       "      <td>1015.200</td>\n",
       "      <td>5.000</td>\n",
       "      <td>5.000</td>\n",
       "      <td>16.700</td>\n",
       "      <td>21.100</td>\n",
       "    </tr>\n",
       "    <tr>\n",
       "      <th>75%</th>\n",
       "      <td>16.800</td>\n",
       "      <td>28.200</td>\n",
       "      <td>0.800</td>\n",
       "      <td>7.400</td>\n",
       "      <td>10.600</td>\n",
       "      <td>48.000</td>\n",
       "      <td>19.000</td>\n",
       "      <td>24.000</td>\n",
       "      <td>83.000</td>\n",
       "      <td>66.000</td>\n",
       "      <td>1022.400</td>\n",
       "      <td>1020.000</td>\n",
       "      <td>7.000</td>\n",
       "      <td>7.000</td>\n",
       "      <td>21.600</td>\n",
       "      <td>26.400</td>\n",
       "    </tr>\n",
       "    <tr>\n",
       "      <th>max</th>\n",
       "      <td>33.900</td>\n",
       "      <td>48.100</td>\n",
       "      <td>371.000</td>\n",
       "      <td>145.000</td>\n",
       "      <td>14.500</td>\n",
       "      <td>135.000</td>\n",
       "      <td>130.000</td>\n",
       "      <td>87.000</td>\n",
       "      <td>100.000</td>\n",
       "      <td>100.000</td>\n",
       "      <td>1041.000</td>\n",
       "      <td>1039.600</td>\n",
       "      <td>9.000</td>\n",
       "      <td>9.000</td>\n",
       "      <td>40.200</td>\n",
       "      <td>46.700</td>\n",
       "    </tr>\n",
       "  </tbody>\n",
       "</table>\n",
       "</div>"
      ],
      "text/plain": [
       "         MinTemp    MaxTemp   Rainfall  Evaporation  Sunshine  WindGustSpeed  \\\n",
       "count 141556.000 141871.000 140787.000    81350.000 74377.000     132923.000   \n",
       "mean      12.186     23.227      2.350        5.470     7.625         39.984   \n",
       "std        6.403      7.118      8.465        4.189     3.782         13.589   \n",
       "min       -8.500     -4.800      0.000        0.000     0.000          6.000   \n",
       "25%        7.600     17.900      0.000        2.600     4.900         31.000   \n",
       "50%       12.000     22.600      0.000        4.800     8.500         39.000   \n",
       "75%       16.800     28.200      0.800        7.400    10.600         48.000   \n",
       "max       33.900     48.100    371.000      145.000    14.500        135.000   \n",
       "\n",
       "       WindSpeed9am  WindSpeed3pm  Humidity9am  Humidity3pm  Pressure9am  \\\n",
       "count    140845.000    139563.000   140419.000   138583.000   128179.000   \n",
       "mean         14.002        18.638       68.844       51.483     1017.654   \n",
       "std           8.893         8.803       19.051       20.798        7.105   \n",
       "min           0.000         0.000        0.000        0.000      980.500   \n",
       "25%           7.000        13.000       57.000       37.000     1012.900   \n",
       "50%          13.000        19.000       70.000       52.000     1017.600   \n",
       "75%          19.000        24.000       83.000       66.000     1022.400   \n",
       "max         130.000        87.000      100.000      100.000     1041.000   \n",
       "\n",
       "       Pressure3pm  Cloud9am  Cloud3pm    Temp9am    Temp3pm  \n",
       "count   128212.000 88536.000 85099.000 141289.000 139467.000  \n",
       "mean      1015.258     4.437     4.503     16.988     21.687  \n",
       "std          7.037     2.887     2.721      6.493      6.938  \n",
       "min        977.100     0.000     0.000     -7.200     -5.400  \n",
       "25%       1010.400     1.000     2.000     12.300     16.600  \n",
       "50%       1015.200     5.000     5.000     16.700     21.100  \n",
       "75%       1020.000     7.000     7.000     21.600     26.400  \n",
       "max       1039.600     9.000     9.000     40.200     46.700  "
      ]
     },
     "execution_count": 164,
     "metadata": {},
     "output_type": "execute_result"
    }
   ],
   "source": [
    "numerical.describe()"
   ]
  },
  {
   "cell_type": "code",
   "execution_count": 165,
   "metadata": {
    "ExecuteTime": {
     "end_time": "2020-06-03T04:03:36.846363Z",
     "start_time": "2020-06-03T04:03:36.827350Z"
    }
   },
   "outputs": [
    {
     "data": {
      "text/plain": [
       "MinTemp         0.004\n",
       "MaxTemp         0.002\n",
       "Rainfall        0.010\n",
       "Evaporation     0.428\n",
       "Sunshine        0.477\n",
       "WindGustSpeed   0.065\n",
       "WindSpeed9am    0.009\n",
       "WindSpeed3pm    0.018\n",
       "Humidity9am     0.012\n",
       "Humidity3pm     0.025\n",
       "Pressure9am     0.099\n",
       "Pressure3pm     0.098\n",
       "Cloud9am        0.377\n",
       "Cloud3pm        0.402\n",
       "Temp9am         0.006\n",
       "Temp3pm         0.019\n",
       "dtype: float64"
      ]
     },
     "execution_count": 165,
     "metadata": {},
     "output_type": "execute_result"
    }
   ],
   "source": [
    "numerical.isna().sum()/len(data)"
   ]
  },
  {
   "cell_type": "markdown",
   "metadata": {},
   "source": [
    "<h4>Delete columns which contains missing value about 40% from data length </h4>"
   ]
  },
  {
   "cell_type": "code",
   "execution_count": 166,
   "metadata": {
    "ExecuteTime": {
     "end_time": "2020-06-03T04:03:37.002501Z",
     "start_time": "2020-06-03T04:03:36.849364Z"
    }
   },
   "outputs": [],
   "source": [
    "data.drop(['Evaporation','Sunshine','Cloud3pm'], axis=1, inplace=True)"
   ]
  },
  {
   "cell_type": "code",
   "execution_count": 167,
   "metadata": {
    "ExecuteTime": {
     "end_time": "2020-06-03T04:03:40.525909Z",
     "start_time": "2020-06-03T04:03:37.005489Z"
    }
   },
   "outputs": [
    {
     "data": {
      "text/plain": [
       "Text(0.5, 1.0, '')"
      ]
     },
     "execution_count": 167,
     "metadata": {},
     "output_type": "execute_result"
    },
    {
     "data": {
      "image/png": "[encoded data removed]",
      "text/plain": [
       "<Figure size 1080x2880 with 13 Axes>"
      ]
     },
     "metadata": {
      "needs_background": "light"
     },
     "output_type": "display_data"
    }
   ],
   "source": [
    "plt.figure(figsize=(15,40))\n",
    "\n",
    "plt.subplot(9, 4, 1)\n",
    "fig = data.boxplot(column='MinTemp')\n",
    "fig.set_title('')\n",
    "\n",
    "plt.subplot(9, 4, 2)\n",
    "fig = data.boxplot(column='MaxTemp')\n",
    "fig.set_title('')\n",
    "\n",
    "plt.subplot(9, 4, 3)\n",
    "fig = data.boxplot(column='Rainfall')\n",
    "fig.set_title('')\n",
    "\n",
    "plt.subplot(9, 4, 4)\n",
    "fig = data.boxplot(column='WindGustSpeed')\n",
    "fig.set_title('')\n",
    "\n",
    "plt.subplot(9, 4, 5)\n",
    "fig = data.boxplot(column='WindSpeed9am')\n",
    "fig.set_title('')\n",
    "\n",
    "plt.subplot(9, 4, 6)\n",
    "fig = data.boxplot(column='WindSpeed3pm')\n",
    "fig.set_title('')\n",
    "\n",
    "plt.subplot(9, 4, 7)\n",
    "fig = data.boxplot(column='Humidity9am')\n",
    "fig.set_title('')\n",
    "\n",
    "plt.subplot(9, 4, 8)\n",
    "fig = data.boxplot(column='Humidity3pm')\n",
    "fig.set_title('')\n",
    "\n",
    "plt.subplot(9, 4, 9)\n",
    "fig = data.boxplot(column='Pressure9am')\n",
    "fig.set_title('')\n",
    "\n",
    "plt.subplot(9, 4, 10)\n",
    "fig = data.boxplot(column='Pressure3pm')\n",
    "fig.set_title('')\n",
    "\n",
    "plt.subplot(9, 4, 11)\n",
    "fig = data.boxplot(column='Cloud9am')\n",
    "fig.set_title('')\n",
    "\n",
    "plt.subplot(9, 4, 12)\n",
    "fig = data.boxplot(column='Temp9am')\n",
    "fig.set_title('')\n",
    "\n",
    "plt.subplot(9, 4, 13)\n",
    "fig = data.boxplot(column='Temp3pm')\n",
    "fig.set_title('')"
   ]
  },
  {
   "cell_type": "markdown",
   "metadata": {},
   "source": [
    "<h4>Impute missing value</h4>"
   ]
  },
  {
   "cell_type": "code",
   "execution_count": 168,
   "metadata": {
    "ExecuteTime": {
     "end_time": "2020-06-03T04:03:40.547932Z",
     "start_time": "2020-06-03T04:03:40.528913Z"
    }
   },
   "outputs": [],
   "source": [
    "med_ = data[['MinTemp','MaxTemp','Rainfall','WindGustSpeed','WindSpeed9am','WindSpeed3pm','Humidity9am','Pressure9am',\\\n",
    "             'Pressure3pm','Temp9am','Temp3pm']]\n",
    "men_ = data[['Humidity3pm','Cloud9am']]"
   ]
  },
  {
   "cell_type": "code",
   "execution_count": 169,
   "metadata": {
    "ExecuteTime": {
     "end_time": "2020-06-03T04:03:40.731966Z",
     "start_time": "2020-06-03T04:03:40.549928Z"
    }
   },
   "outputs": [],
   "source": [
    "for col in med_:\n",
    "    col_median=data[col].median()\n",
    "    data[col].fillna(col_median, inplace=True)\n",
    "for col_ in men_:\n",
    "    col_mean=data[col_].mean()\n",
    "    data[col_].fillna(col_mean,inplace=True)"
   ]
  },
  {
   "cell_type": "markdown",
   "metadata": {},
   "source": [
    "<h4>Remove outliers</h4>"
   ]
  },
  {
   "cell_type": "code",
   "execution_count": 170,
   "metadata": {
    "ExecuteTime": {
     "end_time": "2020-06-03T04:03:41.055595Z",
     "start_time": "2020-06-03T04:03:40.733917Z"
    }
   },
   "outputs": [],
   "source": [
    "Q1 = numerical.quantile(0.25)\n",
    "Q3 = numerical.quantile(0.75)\n",
    "IQR = Q3 - Q1"
   ]
  },
  {
   "cell_type": "code",
   "execution_count": 171,
   "metadata": {
    "ExecuteTime": {
     "end_time": "2020-06-03T04:03:41.101575Z",
     "start_time": "2020-06-03T04:03:41.057542Z"
    }
   },
   "outputs": [
    {
     "data": {
      "text/plain": [
       "MinTemp             62\n",
       "MaxTemp            459\n",
       "Rainfall         25228\n",
       "Evaporation       1954\n",
       "Sunshine             0\n",
       "WindGustSpeed     3006\n",
       "WindSpeed9am      1739\n",
       "WindSpeed3pm      2458\n",
       "Humidity9am       1419\n",
       "Humidity3pm          0\n",
       "Pressure9am       1174\n",
       "Pressure3pm        906\n",
       "Cloud9am             0\n",
       "Cloud3pm             0\n",
       "Temp9am            247\n",
       "Temp3pm            735\n",
       "dtype: int64"
      ]
     },
     "execution_count": 171,
     "metadata": {},
     "output_type": "execute_result"
    }
   ],
   "source": [
    "#count of outliers\n",
    "((numerical < (Q1 - 1.5 * IQR)) | (numerical > (Q3 + 1.5 * IQR))).sum()"
   ]
  },
  {
   "cell_type": "code",
   "execution_count": 172,
   "metadata": {
    "ExecuteTime": {
     "end_time": "2020-06-03T04:03:41.251089Z",
     "start_time": "2020-06-03T04:03:41.103575Z"
    }
   },
   "outputs": [
    {
     "data": {
      "text/plain": [
       "(109459, 18)"
      ]
     },
     "execution_count": 172,
     "metadata": {},
     "output_type": "execute_result"
    }
   ],
   "source": [
    "data_wo_outliers = data[~((numerical < (Q1 - 1.5 * IQR)) |(numerical > (Q3 + 1.5 * IQR))).any(axis=1)]\n",
    "data_wo_outliers.shape"
   ]
  },
  {
   "cell_type": "markdown",
   "metadata": {},
   "source": [
    "<h2>Exploratory Data Analysis</h2>"
   ]
  },
  {
   "cell_type": "markdown",
   "metadata": {},
   "source": [
    "<h4>Check proportion of categorical predictor to targeted class</h4>"
   ]
  },
  {
   "cell_type": "markdown",
   "metadata": {},
   "source": [
    "To avoid perfect separation between predictor categorical variable and target variable, we must check proportion of categorical predictor to targeted class."
   ]
  },
  {
   "cell_type": "code",
   "execution_count": 174,
   "metadata": {
    "ExecuteTime": {
     "end_time": "2020-06-03T04:03:42.206867Z",
     "start_time": "2020-06-03T04:03:41.971681Z"
    }
   },
   "outputs": [
    {
     "data": {
      "image/png": "[encoded data removed]",
      "text/plain": [
       "<Figure size 432x288 with 1 Axes>"
      ]
     },
     "metadata": {
      "needs_background": "light"
     },
     "output_type": "display_data"
    }
   ],
   "source": [
    "def plotProportion(data):\n",
    "    ax = categorical.groupby(['RainTomorrow', 'RainToday']).size().unstack().plot(kind='bar', stacked=True)\n",
    "    for rect in ax.patches:\n",
    "        height = rect.get_height()\n",
    "        width = rect.get_width()\n",
    "        padding = 0.25\n",
    "\n",
    "        ax.text(rect.get_x() + width - padding, \n",
    "                rect.get_y() + height / 2, \n",
    "                int(height), \n",
    "                ha = 'center', va = 'center',\n",
    "                color = \"white\")\n",
    "\n",
    "plotProportion(categorical)\n",
    "plt.title(\"proportion of categorical predictor to targeted class\", fontsize = 14, fontweight = \"bold\")\n",
    "plt.show()"
   ]
  },
  {
   "cell_type": "markdown",
   "metadata": {},
   "source": [
    "<h4>Check proportion class target</h4>"
   ]
  },
  {
   "cell_type": "code",
   "execution_count": 175,
   "metadata": {
    "ExecuteTime": {
     "end_time": "2020-06-03T04:03:42.299914Z",
     "start_time": "2020-06-03T04:03:42.209850Z"
    },
    "scrolled": true
   },
   "outputs": [
    {
     "name": "stdout",
     "output_type": "stream",
     "text": [
      "Rain 22.0 %\n",
      "No Rain 78.0 %\n"
     ]
    },
    {
     "data": {
      "image/png": "[encoded data removed]",
      "text/plain": [
       "<Figure size 432x288 with 1 Axes>"
      ]
     },
     "metadata": {},
     "output_type": "display_data"
    }
   ],
   "source": [
    "data['RainTomorrow'].value_counts().plot(kind = 'pie', labels = [ 'No Rain','Rain'])\n",
    "print('Rain', round(data['RainTomorrow'].value_counts()['Yes']/len(data) * 100), '%')\n",
    "print('No Rain', round(data['RainTomorrow'].value_counts()['No']/len(data) * 100), '%')"
   ]
  },
  {
   "cell_type": "markdown",
   "metadata": {},
   "source": [
    "<h2>Modelling</h2>"
   ]
  },
  {
   "cell_type": "markdown",
   "metadata": {},
   "source": [
    "<h2>A. Logistic Regression</h2>"
   ]
  },
  {
   "cell_type": "markdown",
   "metadata": {},
   "source": [
    "<h3>Model Logit 1 - using original data</h3>"
   ]
  },
  {
   "cell_type": "markdown",
   "metadata": {},
   "source": [
    "First of all, we need to seperate variable target from variable predictor, create dummy variable for categorical data and split the data into train data and test data. "
   ]
  },
  {
   "cell_type": "code",
   "execution_count": 176,
   "metadata": {
    "ExecuteTime": {
     "end_time": "2020-06-03T04:03:42.432012Z",
     "start_time": "2020-06-03T04:03:42.305917Z"
    }
   },
   "outputs": [],
   "source": [
    "cat_columns = data.select_dtypes(['category']).columns\n",
    "data_new = pd.get_dummies(data, columns = cat_columns, drop_first = True)"
   ]
  },
  {
   "cell_type": "code",
   "execution_count": 177,
   "metadata": {
    "ExecuteTime": {
     "end_time": "2020-06-03T04:03:42.511206Z",
     "start_time": "2020-06-03T04:03:42.436009Z"
    }
   },
   "outputs": [
    {
     "data": {
      "text/html": [
       "<div>\n",
       "<style scoped>\n",
       "    .dataframe tbody tr th:only-of-type {\n",
       "        vertical-align: middle;\n",
       "    }\n",
       "\n",
       "    .dataframe tbody tr th {\n",
       "        vertical-align: top;\n",
       "    }\n",
       "\n",
       "    .dataframe thead th {\n",
       "        text-align: right;\n",
       "    }\n",
       "</style>\n",
       "<table border=\"1\" class=\"dataframe\">\n",
       "  <thead>\n",
       "    <tr style=\"text-align: right;\">\n",
       "      <th></th>\n",
       "      <th>MinTemp</th>\n",
       "      <th>MaxTemp</th>\n",
       "      <th>Rainfall</th>\n",
       "      <th>WindGustSpeed</th>\n",
       "      <th>WindSpeed9am</th>\n",
       "      <th>WindSpeed3pm</th>\n",
       "      <th>Humidity9am</th>\n",
       "      <th>Humidity3pm</th>\n",
       "      <th>Pressure9am</th>\n",
       "      <th>Pressure3pm</th>\n",
       "      <th>...</th>\n",
       "      <th>WindDir3pm_SSE</th>\n",
       "      <th>WindDir3pm_SSW</th>\n",
       "      <th>WindDir3pm_SW</th>\n",
       "      <th>WindDir3pm_W</th>\n",
       "      <th>WindDir3pm_WNW</th>\n",
       "      <th>WindDir3pm_WSW</th>\n",
       "      <th>WindDir3pm_unknown</th>\n",
       "      <th>RainToday_Yes</th>\n",
       "      <th>RainToday_unknown</th>\n",
       "      <th>RainTomorrow_Yes</th>\n",
       "    </tr>\n",
       "  </thead>\n",
       "  <tbody>\n",
       "    <tr>\n",
       "      <th>0</th>\n",
       "      <td>13.400</td>\n",
       "      <td>22.900</td>\n",
       "      <td>0.600</td>\n",
       "      <td>44.000</td>\n",
       "      <td>20.000</td>\n",
       "      <td>24.000</td>\n",
       "      <td>71.000</td>\n",
       "      <td>22.000</td>\n",
       "      <td>1007.700</td>\n",
       "      <td>1007.100</td>\n",
       "      <td>...</td>\n",
       "      <td>0</td>\n",
       "      <td>0</td>\n",
       "      <td>0</td>\n",
       "      <td>0</td>\n",
       "      <td>1</td>\n",
       "      <td>0</td>\n",
       "      <td>0</td>\n",
       "      <td>0</td>\n",
       "      <td>0</td>\n",
       "      <td>0</td>\n",
       "    </tr>\n",
       "    <tr>\n",
       "      <th>1</th>\n",
       "      <td>7.400</td>\n",
       "      <td>25.100</td>\n",
       "      <td>0.000</td>\n",
       "      <td>44.000</td>\n",
       "      <td>4.000</td>\n",
       "      <td>22.000</td>\n",
       "      <td>44.000</td>\n",
       "      <td>25.000</td>\n",
       "      <td>1010.600</td>\n",
       "      <td>1007.800</td>\n",
       "      <td>...</td>\n",
       "      <td>0</td>\n",
       "      <td>0</td>\n",
       "      <td>0</td>\n",
       "      <td>0</td>\n",
       "      <td>0</td>\n",
       "      <td>1</td>\n",
       "      <td>0</td>\n",
       "      <td>0</td>\n",
       "      <td>0</td>\n",
       "      <td>0</td>\n",
       "    </tr>\n",
       "  </tbody>\n",
       "</table>\n",
       "<p>2 rows × 64 columns</p>\n",
       "</div>"
      ],
      "text/plain": [
       "   MinTemp  MaxTemp  Rainfall  WindGustSpeed  WindSpeed9am  WindSpeed3pm  \\\n",
       "0   13.400   22.900     0.600         44.000        20.000        24.000   \n",
       "1    7.400   25.100     0.000         44.000         4.000        22.000   \n",
       "\n",
       "   Humidity9am  Humidity3pm  Pressure9am  Pressure3pm  ...  WindDir3pm_SSE  \\\n",
       "0       71.000       22.000     1007.700     1007.100  ...               0   \n",
       "1       44.000       25.000     1010.600     1007.800  ...               0   \n",
       "\n",
       "   WindDir3pm_SSW  WindDir3pm_SW  WindDir3pm_W  WindDir3pm_WNW  \\\n",
       "0               0              0             0               1   \n",
       "1               0              0             0               0   \n",
       "\n",
       "   WindDir3pm_WSW  WindDir3pm_unknown  RainToday_Yes  RainToday_unknown  \\\n",
       "0               0                   0              0                  0   \n",
       "1               1                   0              0                  0   \n",
       "\n",
       "   RainTomorrow_Yes  \n",
       "0                 0  \n",
       "1                 0  \n",
       "\n",
       "[2 rows x 64 columns]"
      ]
     },
     "execution_count": 177,
     "metadata": {},
     "output_type": "execute_result"
    }
   ],
   "source": [
    "data_new.head(2)"
   ]
  },
  {
   "cell_type": "code",
   "execution_count": 178,
   "metadata": {
    "ExecuteTime": {
     "end_time": "2020-06-03T04:03:42.728627Z",
     "start_time": "2020-06-03T04:03:42.514208Z"
    }
   },
   "outputs": [
    {
     "name": "stdout",
     "output_type": "stream",
     "text": [
      "X_train: (113754, 63)\n",
      "X_test: (28439, 63)\n",
      "y_train: (113754,)\n",
      "y_test: (28439,)\n"
     ]
    }
   ],
   "source": [
    "#separate predictor and target\n",
    "X = data_new.drop('RainTomorrow_Yes', axis=1)\n",
    "y = data_new.RainTomorrow_Yes.values\n",
    "\n",
    "#setting up testing and training sets\n",
    "X_train, X_test, y_train, y_test = train_test_split(X, y, test_size=0.2, random_state=42)\n",
    "print(\"X_train:\",X_train.shape)\n",
    "print(\"X_test:\",X_test.shape)\n",
    "print(\"y_train:\",y_train.shape)\n",
    "print(\"y_test:\",y_test.shape)"
   ]
  },
  {
   "cell_type": "code",
   "execution_count": 179,
   "metadata": {
    "ExecuteTime": {
     "end_time": "2020-06-03T04:03:44.750607Z",
     "start_time": "2020-06-03T04:03:42.730626Z"
    }
   },
   "outputs": [],
   "source": [
    "lr = LogisticRegression(multi_class='ovr',solver='liblinear').fit(X_train, y_train)\n",
    "lr_pred = lr.predict(X_test)"
   ]
  },
  {
   "cell_type": "markdown",
   "metadata": {},
   "source": [
    "<h4>Accuracy model 1</h4>"
   ]
  },
  {
   "cell_type": "code",
   "execution_count": 180,
   "metadata": {
    "ExecuteTime": {
     "end_time": "2020-06-03T04:03:44.762158Z",
     "start_time": "2020-06-03T04:03:44.750607Z"
    },
    "scrolled": true
   },
   "outputs": [
    {
     "name": "stdout",
     "output_type": "stream",
     "text": [
      "Accuracy: 0.83817996413376\n"
     ]
    }
   ],
   "source": [
    "print('Accuracy:',accuracy_score(y_test, lr_pred))"
   ]
  },
  {
   "cell_type": "markdown",
   "metadata": {},
   "source": [
    "Model 1 is model using original data, feature engineering haven't implemented yet in this model. Given accuracy from this model is <b>0.838</b>"
   ]
  },
  {
   "cell_type": "markdown",
   "metadata": {},
   "source": [
    "<h4>Check summary from model 1</h4>"
   ]
  },
  {
   "cell_type": "code",
   "execution_count": 181,
   "metadata": {
    "ExecuteTime": {
     "end_time": "2020-06-03T04:03:48.343537Z",
     "start_time": "2020-06-03T04:03:44.765160Z"
    }
   },
   "outputs": [
    {
     "name": "stdout",
     "output_type": "stream",
     "text": [
      "Optimization terminated successfully.\n",
      "         Current function value: inf\n",
      "         Iterations 7\n",
      "                           Logit Regression Results                           \n",
      "==============================================================================\n",
      "Dep. Variable:                      y   No. Observations:               113754\n",
      "Model:                          Logit   Df Residuals:                   113690\n",
      "Method:                           MLE   Df Model:                           63\n",
      "Date:                Wed, 03 Jun 2020   Pseudo R-squ.:                     inf\n",
      "Time:                        11:03:48   Log-Likelihood:                   -inf\n",
      "converged:                       True   LL-Null:                        0.0000\n",
      "Covariance Type:            nonrobust   LLR p-value:                     1.000\n",
      "=======================================================================================\n",
      "                          coef    std err          z      P>|z|      [0.025      0.975]\n",
      "---------------------------------------------------------------------------------------\n",
      "const                  48.8877      1.708     28.624      0.000      45.540      52.235\n",
      "MinTemp                 0.0242      0.004      5.516      0.000       0.016       0.033\n",
      "MaxTemp                -0.0299      0.005     -5.591      0.000      -0.040      -0.019\n",
      "Rainfall                0.0098      0.001      8.045      0.000       0.007       0.012\n",
      "WindGustSpeed           0.0502      0.001     49.820      0.000       0.048       0.052\n",
      "WindSpeed9am           -0.0099      0.001     -7.059      0.000      -0.013      -0.007\n",
      "WindSpeed3pm           -0.0255      0.001    -18.849      0.000      -0.028      -0.023\n",
      "Humidity9am             0.0008      0.001      0.921      0.357      -0.001       0.003\n",
      "Humidity3pm             0.0602      0.001     64.788      0.000       0.058       0.062\n",
      "Pressure9am             0.1110      0.006     20.062      0.000       0.100       0.122\n",
      "Pressure3pm            -0.1665      0.006    -29.672      0.000      -0.177      -0.155\n",
      "Cloud9am                0.1125      0.005     23.803      0.000       0.103       0.122\n",
      "Temp9am                 0.0118      0.006      1.912      0.056      -0.000       0.024\n",
      "Temp3pm                 0.0033      0.005      0.596      0.551      -0.007       0.014\n",
      "WindGustDir_ENE        -0.0231      0.060     -0.387      0.699      -0.140       0.094\n",
      "WindGustDir_ESE         0.1255      0.060      2.082      0.037       0.007       0.244\n",
      "WindGustDir_N           0.0421      0.061      0.695      0.487      -0.077       0.161\n",
      "WindGustDir_NE         -0.1597      0.062     -2.568      0.010      -0.282      -0.038\n",
      "WindGustDir_NNE        -0.1843      0.064     -2.877      0.004      -0.310      -0.059\n",
      "WindGustDir_NNW         0.0155      0.064      0.243      0.808      -0.109       0.140\n",
      "WindGustDir_NW          0.0290      0.062      0.470      0.638      -0.092       0.150\n",
      "WindGustDir_S           0.0938      0.060      1.573      0.116      -0.023       0.211\n",
      "WindGustDir_SE          0.2017      0.058      3.475      0.001       0.088       0.315\n",
      "WindGustDir_SSE         0.1704      0.060      2.855      0.004       0.053       0.287\n",
      "WindGustDir_SSW         0.0506      0.060      0.840      0.401      -0.068       0.169\n",
      "WindGustDir_SW          0.1274      0.061      2.095      0.036       0.008       0.247\n",
      "WindGustDir_W           0.0323      0.060      0.539      0.590      -0.085       0.150\n",
      "WindGustDir_WNW        -0.0014      0.062     -0.023      0.982      -0.122       0.119\n",
      "WindGustDir_WSW         0.0296      0.061      0.484      0.628      -0.090       0.149\n",
      "WindGustDir_unknown     0.0605      0.056      1.071      0.284      -0.050       0.171\n",
      "WindDir9am_ENE          0.2600      0.060      4.362      0.000       0.143       0.377\n",
      "WindDir9am_ESE         -0.1734      0.061     -2.831      0.005      -0.293      -0.053\n",
      "WindDir9am_N            0.3126      0.054      5.779      0.000       0.207       0.419\n",
      "WindDir9am_NE           0.3030      0.059      5.118      0.000       0.187       0.419\n",
      "WindDir9am_NNE          0.5056      0.058      8.783      0.000       0.393       0.618\n",
      "WindDir9am_NNW          0.0965      0.057      1.690      0.091      -0.015       0.208\n",
      "WindDir9am_NW           0.1179      0.056      2.093      0.036       0.007       0.228\n",
      "WindDir9am_S           -0.1823      0.058     -3.121      0.002      -0.297      -0.068\n",
      "WindDir9am_SE          -0.1247      0.058     -2.160      0.031      -0.238      -0.012\n",
      "WindDir9am_SSE         -0.1578      0.058     -2.727      0.006      -0.271      -0.044\n",
      "WindDir9am_SSW         -0.0501      0.059     -0.851      0.395      -0.166       0.065\n",
      "WindDir9am_SW           0.0709      0.057      1.241      0.215      -0.041       0.183\n",
      "WindDir9am_W            0.0520      0.057      0.908      0.364      -0.060       0.164\n",
      "WindDir9am_WNW          0.1171      0.059      1.999      0.046       0.002       0.232\n",
      "WindDir9am_WSW          0.0466      0.059      0.785      0.432      -0.070       0.163\n",
      "WindDir9am_unknown     -0.0793      0.059     -1.351      0.177      -0.194       0.036\n",
      "WindDir3pm_ENE          0.0288      0.057      0.501      0.616      -0.084       0.141\n",
      "WindDir3pm_ESE          0.0143      0.056      0.255      0.799      -0.096       0.124\n",
      "WindDir3pm_N            0.3361      0.059      5.709      0.000       0.221       0.451\n",
      "WindDir3pm_NE          -0.1745      0.059     -2.973      0.003      -0.289      -0.059\n",
      "WindDir3pm_NNE          0.1920      0.062      3.106      0.002       0.071       0.313\n",
      "WindDir3pm_NNW          0.5000      0.060      8.302      0.000       0.382       0.618\n",
      "WindDir3pm_NW           0.4847      0.059      8.236      0.000       0.369       0.600\n",
      "WindDir3pm_S            0.1153      0.057      2.013      0.044       0.003       0.228\n",
      "WindDir3pm_SE           0.0172      0.054      0.317      0.752      -0.089       0.123\n",
      "WindDir3pm_SSE          0.0155      0.058      0.269      0.788      -0.097       0.128\n",
      "WindDir3pm_SSW          0.1403      0.060      2.337      0.019       0.023       0.258\n",
      "WindDir3pm_SW           0.0983      0.059      1.659      0.097      -0.018       0.214\n",
      "WindDir3pm_W            0.2173      0.058      3.727      0.000       0.103       0.332\n",
      "WindDir3pm_WNW          0.3503      0.059      5.940      0.000       0.235       0.466\n",
      "WindDir3pm_WSW          0.1799      0.059      3.054      0.002       0.064       0.295\n",
      "WindDir3pm_unknown      0.5642      0.069      8.159      0.000       0.429       0.700\n",
      "RainToday_Yes           0.5806      0.024     24.389      0.000       0.534       0.627\n",
      "RainToday_unknown       1.6348      0.070     23.472      0.000       1.498       1.771\n",
      "=======================================================================================\n"
     ]
    }
   ],
   "source": [
    "def fitLogisticRegression(X, y):\n",
    "    model = sm.Logit(y, sm.add_constant(X))\n",
    "    result = model.fit()\n",
    "    return result\n",
    "\n",
    "model_all = fitLogisticRegression(X_train, y_train)\n",
    "print(model_all.summary())"
   ]
  },
  {
   "cell_type": "markdown",
   "metadata": {},
   "source": [
    "\n"
   ]
  },
  {
   "cell_type": "markdown",
   "metadata": {},
   "source": [
    "From the summary above we get the information that there are several variables not significant to predict the targeted variable. It is indicate with <b> p-value > 0.05 </b>. To improve the model, drop unsignificant variables and build second models."
   ]
  },
  {
   "cell_type": "markdown",
   "metadata": {},
   "source": [
    "<h3>Feature Engineering</h3>"
   ]
  },
  {
   "cell_type": "markdown",
   "metadata": {},
   "source": [
    "<h4>Drop unsignificant variables</h4>"
   ]
  },
  {
   "cell_type": "code",
   "execution_count": 182,
   "metadata": {
    "ExecuteTime": {
     "end_time": "2020-06-03T04:03:48.373559Z",
     "start_time": "2020-06-03T04:03:48.346540Z"
    }
   },
   "outputs": [],
   "source": [
    "X_new = data_new.drop(['Humidity9am','Temp9am','Temp3pm','WindGustDir_ENE','WindGustDir_N','WindGustDir_NNW','WindGustDir_NW',\\\n",
    "                      'WindGustDir_S','WindGustDir_SSW','WindGustDir_W','WindGustDir_WNW','WindGustDir_WSW','WindGustDir_unknown',\\\n",
    "                      'WindDir9am_NNW','WindDir9am_SSW','WindDir9am_SW','WindDir9am_W','WindDir9am_WSW','WindDir9am_unknown',\\\n",
    "                      'WindDir3pm_ENE','WindDir3pm_ESE','WindDir3pm_SE','WindDir3pm_SSE','WindDir3pm_SW','RainTomorrow_Yes'],axis=1)\n",
    "y_new = data_new.RainTomorrow_Yes.values"
   ]
  },
  {
   "cell_type": "markdown",
   "metadata": {},
   "source": [
    "<h3>Model Logit 2 - without unsignificant variables</h3>"
   ]
  },
  {
   "cell_type": "code",
   "execution_count": 183,
   "metadata": {
    "ExecuteTime": {
     "end_time": "2020-06-03T04:03:48.534854Z",
     "start_time": "2020-06-03T04:03:48.376562Z"
    }
   },
   "outputs": [],
   "source": [
    "#setting up testing and training sets\n",
    "X_train_new, X_test_new, y_train_new, y_test_new = train_test_split(X_new, y_new, test_size=0.2, random_state=42)"
   ]
  },
  {
   "cell_type": "code",
   "execution_count": 184,
   "metadata": {
    "ExecuteTime": {
     "end_time": "2020-06-03T04:03:50.314515Z",
     "start_time": "2020-06-03T04:03:48.536856Z"
    },
    "scrolled": true
   },
   "outputs": [],
   "source": [
    "lr_new = LogisticRegression(multi_class='ovr',solver='liblinear').fit(X_train_new, y_train_new)\n",
    "lr_pred_new= lr_new.predict(X_test_new)"
   ]
  },
  {
   "cell_type": "code",
   "execution_count": 185,
   "metadata": {
    "ExecuteTime": {
     "end_time": "2020-06-03T04:03:50.326581Z",
     "start_time": "2020-06-03T04:03:50.314515Z"
    }
   },
   "outputs": [
    {
     "name": "stdout",
     "output_type": "stream",
     "text": [
      "Accuracy: 0.837863497310032\n"
     ]
    }
   ],
   "source": [
    "print('Accuracy:',accuracy_score(y_test_new, lr_pred_new))"
   ]
  },
  {
   "cell_type": "markdown",
   "metadata": {},
   "source": [
    "Model 2 is model without unsignificant variables. From the result above we get value of accuracy <b>0.8378</b>"
   ]
  },
  {
   "cell_type": "markdown",
   "metadata": {},
   "source": [
    "<h3>Model Logit 3 - without outliers and unsignificant variables</h3>"
   ]
  },
  {
   "cell_type": "markdown",
   "metadata": {},
   "source": [
    "In this third modelling, I implement model Logit using data without outliers and unsignificant variables."
   ]
  },
  {
   "cell_type": "code",
   "execution_count": 186,
   "metadata": {
    "ExecuteTime": {
     "end_time": "2020-06-03T04:03:50.492257Z",
     "start_time": "2020-06-03T04:03:50.329584Z"
    }
   },
   "outputs": [],
   "source": [
    "cat_columns_n = data_wo_outliers.select_dtypes(['category']).columns\n",
    "data_no_out = pd.get_dummies(data_wo_outliers, columns = cat_columns_n, drop_first = True)"
   ]
  },
  {
   "cell_type": "code",
   "execution_count": 187,
   "metadata": {
    "ExecuteTime": {
     "end_time": "2020-06-03T04:03:50.588271Z",
     "start_time": "2020-06-03T04:03:50.494262Z"
    }
   },
   "outputs": [],
   "source": [
    "X_wo_out = data_no_out.drop(['Humidity9am','Temp9am','Temp3pm','WindGustDir_ENE','WindGustDir_N','WindGustDir_NNW','WindGustDir_NW',\\\n",
    "                      'WindGustDir_S','WindGustDir_SSW','WindGustDir_W','WindGustDir_WNW','WindGustDir_WSW','WindGustDir_unknown',\\\n",
    "                      'WindDir9am_NNW','WindDir9am_SSW','WindDir9am_SW','WindDir9am_W','WindDir9am_WSW','WindDir9am_unknown',\\\n",
    "                      'WindDir3pm_ENE','WindDir3pm_ESE','WindDir3pm_SE','WindDir3pm_SSE','WindDir3pm_SW','RainTomorrow_Yes'],axis=1)\n",
    "y_wo_out = data_no_out.RainTomorrow_Yes.values"
   ]
  },
  {
   "cell_type": "code",
   "execution_count": 188,
   "metadata": {
    "ExecuteTime": {
     "end_time": "2020-06-03T04:03:50.700092Z",
     "start_time": "2020-06-03T04:03:50.590243Z"
    }
   },
   "outputs": [],
   "source": [
    "X_train_w, X_test_w, y_train_w, y_test_w = train_test_split(X_wo_out, y_wo_out, test_size=0.2, random_state=42)"
   ]
  },
  {
   "cell_type": "code",
   "execution_count": 189,
   "metadata": {
    "ExecuteTime": {
     "end_time": "2020-06-03T04:03:52.307465Z",
     "start_time": "2020-06-03T04:03:50.703095Z"
    }
   },
   "outputs": [],
   "source": [
    "lr_wo = LogisticRegression(multi_class='ovr',solver='liblinear').fit(X_train_w, y_train_w)\n",
    "lr_pred_wo= lr_wo.predict(X_test_w)"
   ]
  },
  {
   "cell_type": "code",
   "execution_count": 190,
   "metadata": {
    "ExecuteTime": {
     "end_time": "2020-06-03T04:03:52.318800Z",
     "start_time": "2020-06-03T04:03:52.307465Z"
    }
   },
   "outputs": [
    {
     "name": "stdout",
     "output_type": "stream",
     "text": [
      "Accuracy: 0.8607253791339302\n"
     ]
    }
   ],
   "source": [
    "print('Accuracy:',accuracy_score(y_test_w, lr_pred_wo))"
   ]
  },
  {
   "cell_type": "markdown",
   "metadata": {},
   "source": [
    "From the result above we get the highest accuracy score than the 2 previous models. Given accuracy score from this model is <b>0.861</b>. "
   ]
  },
  {
   "cell_type": "markdown",
   "metadata": {},
   "source": [
    "<h3>Assumption Check</h3>"
   ]
  },
  {
   "cell_type": "markdown",
   "metadata": {},
   "source": [
    "Since from the 3 models above, we got the highest accuracy from model 3, so in this assumption check's step, use the data from model 3. Data from third model is data without outliers and unsignificant variables."
   ]
  },
  {
   "cell_type": "markdown",
   "metadata": {},
   "source": [
    "<h4>1. Multicolinearity</h4><br>\n",
    "Good model can be determined by less or no Multicolinearity."
   ]
  },
  {
   "cell_type": "code",
   "execution_count": 191,
   "metadata": {
    "ExecuteTime": {
     "end_time": "2020-06-03T04:03:52.453541Z",
     "start_time": "2020-06-03T04:03:52.321802Z"
    }
   },
   "outputs": [],
   "source": [
    "#gather features\n",
    "col_dat = data_wo_outliers.drop(['RainTomorrow'],axis=1)\n",
    "features = \"+\".join(col_dat.columns)\n"
   ]
  },
  {
   "cell_type": "code",
   "execution_count": 192,
   "metadata": {
    "ExecuteTime": {
     "end_time": "2020-06-03T04:03:52.867043Z",
     "start_time": "2020-06-03T04:03:52.455543Z"
    }
   },
   "outputs": [],
   "source": [
    "from sklearn import metrics\n",
    "from patsy import dmatrices\n",
    "y, X = dmatrices('RainTomorrow ~' + features, data_wo_outliers, return_type='dataframe')"
   ]
  },
  {
   "cell_type": "code",
   "execution_count": 193,
   "metadata": {
    "ExecuteTime": {
     "end_time": "2020-06-03T04:04:50.759322Z",
     "start_time": "2020-06-03T04:03:52.869043Z"
    }
   },
   "outputs": [],
   "source": [
    "from statsmodels.stats.outliers_influence import variance_inflation_factor\n",
    "vif = pd.DataFrame()\n",
    "vif[\"VIF Factor\"] = [variance_inflation_factor(X.values, i) for i in range(X.shape[1])]\n",
    "vif[\"features\"] = X.columns\n"
   ]
  },
  {
   "cell_type": "code",
   "execution_count": 194,
   "metadata": {
    "ExecuteTime": {
     "end_time": "2020-06-03T04:04:50.774824Z",
     "start_time": "2020-06-03T04:04:50.759322Z"
    },
    "scrolled": true
   },
   "outputs": [
    {
     "data": {
      "text/html": [
       "<div>\n",
       "<style scoped>\n",
       "    .dataframe tbody tr th:only-of-type {\n",
       "        vertical-align: middle;\n",
       "    }\n",
       "\n",
       "    .dataframe tbody tr th {\n",
       "        vertical-align: top;\n",
       "    }\n",
       "\n",
       "    .dataframe thead th {\n",
       "        text-align: right;\n",
       "    }\n",
       "</style>\n",
       "<table border=\"1\" class=\"dataframe\">\n",
       "  <thead>\n",
       "    <tr style=\"text-align: right;\">\n",
       "      <th></th>\n",
       "      <th>VIF Factor</th>\n",
       "      <th>features</th>\n",
       "    </tr>\n",
       "  </thead>\n",
       "  <tbody>\n",
       "    <tr>\n",
       "      <th>0</th>\n",
       "      <td>48076.271</td>\n",
       "      <td>Intercept</td>\n",
       "    </tr>\n",
       "    <tr>\n",
       "      <th>52</th>\n",
       "      <td>22.517</td>\n",
       "      <td>MaxTemp</td>\n",
       "    </tr>\n",
       "    <tr>\n",
       "      <th>59</th>\n",
       "      <td>20.834</td>\n",
       "      <td>Pressure9am</td>\n",
       "    </tr>\n",
       "    <tr>\n",
       "      <th>60</th>\n",
       "      <td>20.871</td>\n",
       "      <td>Pressure3pm</td>\n",
       "    </tr>\n",
       "    <tr>\n",
       "      <th>62</th>\n",
       "      <td>18.169</td>\n",
       "      <td>Temp9am</td>\n",
       "    </tr>\n",
       "    <tr>\n",
       "      <th>63</th>\n",
       "      <td>22.198</td>\n",
       "      <td>Temp3pm</td>\n",
       "    </tr>\n",
       "  </tbody>\n",
       "</table>\n",
       "</div>"
      ],
      "text/plain": [
       "    VIF Factor     features\n",
       "0    48076.271    Intercept\n",
       "52      22.517      MaxTemp\n",
       "59      20.834  Pressure9am\n",
       "60      20.871  Pressure3pm\n",
       "62      18.169      Temp9am\n",
       "63      22.198      Temp3pm"
      ]
     },
     "execution_count": 194,
     "metadata": {},
     "output_type": "execute_result"
    }
   ],
   "source": [
    "vif[vif[\"VIF Factor\"]>10]"
   ]
  },
  {
   "cell_type": "markdown",
   "metadata": {},
   "source": [
    "From the result above, table shown that there are multicolinearity in MaxTemp, Pressure9am, Pressure3pm, Temp9am, and Temp3pm variables. It is indicate that there are strong relationship between those variables. Based on the business case and explanation variable above, we can decided whether we need to remove one of variable or tunning the variables by feature engineering."
   ]
  },
  {
   "cell_type": "markdown",
   "metadata": {},
   "source": [
    "<h4>Check correlation between multicolinearity variables</h4>"
   ]
  },
  {
   "cell_type": "code",
   "execution_count": 195,
   "metadata": {
    "ExecuteTime": {
     "end_time": "2020-06-03T04:04:51.283183Z",
     "start_time": "2020-06-03T04:04:50.777826Z"
    }
   },
   "outputs": [
    {
     "data": {
      "text/plain": [
       "<Figure size 360x360 with 0 Axes>"
      ]
     },
     "metadata": {},
     "output_type": "display_data"
    },
    {
     "data": {
      "image/png": "[encoded data removed]",
      "text/plain": [
       "<Figure size 360x360 with 2 Axes>"
      ]
     },
     "metadata": {},
     "output_type": "display_data"
    }
   ],
   "source": [
    "cor_death = data_wo_outliers[['MaxTemp','Pressure9am','Pressure3pm','Temp9am','Temp3pm']]\n",
    "pd.set_option('precision', 3)\n",
    "correlation=cor_death.corr(method='pearson')\n",
    "# heatmap of the correlation \n",
    "plt.figure(figsize=(5,5))\n",
    "mask = np.zeros_like(correlation)\n",
    "mask[np.triu_indices_from(mask)] = True\n",
    "with sns.axes_style(\"white\"):\n",
    "    f, ax = plt.subplots(figsize=(5, 5))\n",
    "    ax = sns.heatmap(correlation, mask=mask, square=True,annot=True,vmin=-1,vmax=1,cmap=\"YlOrRd_r\")"
   ]
  },
  {
   "cell_type": "markdown",
   "metadata": {},
   "source": [
    "Heatmap visualization above shown that Pressure9am and Pressure3pm have high correlation value of 0.96. Temp9am and Temp3pm have correlation value of 0.83, whilst MaxTemp have hingh correlation value in two variables of Temp3pm and Temp9am.<br>\n",
    "From the business case and variable prediction, we can decide to :<br>\n",
    "1. Create new predictor variable which contains mean value from Temp9am and Temp3pm, since they explain same information about Temperature value. The difference only in measurement time, the first taken in 9AM and the second taken in 3PM<br>\n",
    "2. Create new predictor variable which contains mean value from Pressure9am and Pressure3pm, since they explain same information about Pressure value. The difference only in measurement time, the first taken in 9AM and the second taken in 3PM<br>\n",
    "3. Drop MaxTemp. MaxTemp is maximum temperature in degrees celsius. Usually the maximum temperature occurs during the day, around 9AM-3PM. So, we can decide to drop this variable, because mean value from Temp9am and Temp3pm already contains enough information about temperature to explain."
   ]
  },
  {
   "cell_type": "markdown",
   "metadata": {},
   "source": [
    "<h3>Feature Engineering</h3>"
   ]
  },
  {
   "cell_type": "markdown",
   "metadata": {},
   "source": [
    "<h4>Remove Multicolinearity</h4>"
   ]
  },
  {
   "cell_type": "code",
   "execution_count": 196,
   "metadata": {
    "ExecuteTime": {
     "end_time": "2020-06-03T04:04:51.330379Z",
     "start_time": "2020-06-03T04:04:51.285186Z"
    }
   },
   "outputs": [],
   "source": [
    "#1. Mean between Temp9am and Temp3pm\n",
    "data_wo_outliers['Temp'] = (data_wo_outliers.Temp9am + data_wo_outliers.Temp3pm)/2\n",
    "data_wo_outliers.drop(['Temp9am','Temp3pm'], axis=1, inplace=True)"
   ]
  },
  {
   "cell_type": "code",
   "execution_count": 197,
   "metadata": {
    "ExecuteTime": {
     "end_time": "2020-06-03T04:04:51.426702Z",
     "start_time": "2020-06-03T04:04:51.334363Z"
    }
   },
   "outputs": [],
   "source": [
    "#2. Mean between Pressure9am and Pressure3pm\n",
    "data_wo_outliers['Pressure'] = (data_wo_outliers.Pressure9am + data_wo_outliers.Pressure3pm)/2\n",
    "data_wo_outliers.drop(['Pressure9am','Pressure3pm'], axis=1, inplace=True)"
   ]
  },
  {
   "cell_type": "code",
   "execution_count": 198,
   "metadata": {
    "ExecuteTime": {
     "end_time": "2020-06-03T04:04:51.509887Z",
     "start_time": "2020-06-03T04:04:51.428654Z"
    }
   },
   "outputs": [],
   "source": [
    "#3. Drop Max temp\n",
    "data_wo_outliers.drop(['MaxTemp'], axis=1, inplace=True)"
   ]
  },
  {
   "cell_type": "markdown",
   "metadata": {},
   "source": [
    "<h3>Model Logit 4 - without outliers, unsignificant variables, and multicolinearity</h3>"
   ]
  },
  {
   "cell_type": "code",
   "execution_count": 199,
   "metadata": {
    "ExecuteTime": {
     "end_time": "2020-06-03T04:04:51.694264Z",
     "start_time": "2020-06-03T04:04:51.511856Z"
    }
   },
   "outputs": [],
   "source": [
    "cat_columns_nw = data_wo_outliers.select_dtypes(['category']).columns\n",
    "data_no_out2 = pd.get_dummies(data_wo_outliers, columns = cat_columns_nw, drop_first = True)"
   ]
  },
  {
   "cell_type": "code",
   "execution_count": 200,
   "metadata": {
    "ExecuteTime": {
     "end_time": "2020-06-03T04:04:51.765099Z",
     "start_time": "2020-06-03T04:04:51.696497Z"
    }
   },
   "outputs": [],
   "source": [
    "X_wo_out2 = data_no_out2.drop(['Humidity9am','Pressure','WindGustDir_ENE','WindGustDir_N','WindGustDir_NNW','WindGustDir_NW',\\\n",
    "                      'WindGustDir_S','WindGustDir_SSW','WindGustDir_W','WindGustDir_WNW','WindGustDir_WSW','WindGustDir_unknown',\\\n",
    "                      'WindDir9am_NNW','WindDir9am_SSW','WindDir9am_SW','WindDir9am_W','WindDir9am_WSW','WindDir9am_unknown',\\\n",
    "                      'WindDir3pm_ENE','WindDir3pm_ESE','WindDir3pm_SE','WindDir3pm_SSE','WindDir3pm_SW','RainTomorrow_Yes'],axis=1)\n",
    "y_wo_out2 = data_no_out2.RainTomorrow_Yes.values"
   ]
  },
  {
   "cell_type": "code",
   "execution_count": 201,
   "metadata": {
    "ExecuteTime": {
     "end_time": "2020-06-03T04:04:51.901905Z",
     "start_time": "2020-06-03T04:04:51.767099Z"
    }
   },
   "outputs": [],
   "source": [
    "X_train_w2, X_test_w2, y_train_w2, y_test_w2 = train_test_split(X_wo_out2, y_wo_out2, test_size=0.2, random_state=42)"
   ]
  },
  {
   "cell_type": "code",
   "execution_count": 202,
   "metadata": {
    "ExecuteTime": {
     "end_time": "2020-06-03T04:04:53.032821Z",
     "start_time": "2020-06-03T04:04:51.906855Z"
    }
   },
   "outputs": [],
   "source": [
    "lr_wo2 = LogisticRegression(multi_class='ovr',solver='liblinear').fit(X_train_w2, y_train_w2)\n",
    "lr_pred_wo2= lr_wo2.predict(X_test_w2)\n"
   ]
  },
  {
   "cell_type": "code",
   "execution_count": 203,
   "metadata": {
    "ExecuteTime": {
     "end_time": "2020-06-03T04:04:53.043779Z",
     "start_time": "2020-06-03T04:04:53.032821Z"
    }
   },
   "outputs": [
    {
     "name": "stdout",
     "output_type": "stream",
     "text": [
      "Accuracy: 0.8602229124794446\n"
     ]
    }
   ],
   "source": [
    "print('Accuracy:',accuracy_score(y_test_w2, lr_pred_wo2))"
   ]
  },
  {
   "cell_type": "markdown",
   "metadata": {},
   "source": [
    "From the last Logit models, we get the accuracy score of <b>0.8602</b>"
   ]
  },
  {
   "cell_type": "markdown",
   "metadata": {},
   "source": [
    "<h3>Model Logit Comparison</h3>"
   ]
  },
  {
   "cell_type": "code",
   "execution_count": 204,
   "metadata": {
    "ExecuteTime": {
     "end_time": "2020-06-03T04:04:53.243559Z",
     "start_time": "2020-06-03T04:04:53.046779Z"
    },
    "scrolled": true
   },
   "outputs": [
    {
     "data": {
      "text/html": [
       "<div>\n",
       "<style scoped>\n",
       "    .dataframe tbody tr th:only-of-type {\n",
       "        vertical-align: middle;\n",
       "    }\n",
       "\n",
       "    .dataframe tbody tr th {\n",
       "        vertical-align: top;\n",
       "    }\n",
       "\n",
       "    .dataframe thead th {\n",
       "        text-align: right;\n",
       "    }\n",
       "</style>\n",
       "<table border=\"1\" class=\"dataframe\">\n",
       "  <thead>\n",
       "    <tr style=\"text-align: right;\">\n",
       "      <th></th>\n",
       "      <th>Model</th>\n",
       "      <th>Accuracy</th>\n",
       "    </tr>\n",
       "  </thead>\n",
       "  <tbody>\n",
       "    <tr>\n",
       "      <th>0</th>\n",
       "      <td>Model Logit 1 - using original data</td>\n",
       "      <td>0.838</td>\n",
       "    </tr>\n",
       "    <tr>\n",
       "      <th>1</th>\n",
       "      <td>Model Logit 2 - without unsignificant variables</td>\n",
       "      <td>0.838</td>\n",
       "    </tr>\n",
       "    <tr>\n",
       "      <th>2</th>\n",
       "      <td>Model Logit 3 - without outliers and unsignifi...</td>\n",
       "      <td>0.861</td>\n",
       "    </tr>\n",
       "    <tr>\n",
       "      <th>3</th>\n",
       "      <td>Model Logit 4 - without outliers, unsignifican...</td>\n",
       "      <td>0.860</td>\n",
       "    </tr>\n",
       "  </tbody>\n",
       "</table>\n",
       "</div>"
      ],
      "text/plain": [
       "                                               Model  Accuracy\n",
       "0                Model Logit 1 - using original data     0.838\n",
       "1    Model Logit 2 - without unsignificant variables     0.838\n",
       "2  Model Logit 3 - without outliers and unsignifi...     0.861\n",
       "3  Model Logit 4 - without outliers, unsignifican...     0.860"
      ]
     },
     "execution_count": 204,
     "metadata": {},
     "output_type": "execute_result"
    }
   ],
   "source": [
    "comparison_logit = {'Model': ['Model Logit 1 - using original data', 'Model Logit 2 - without unsignificant variables', \\\n",
    "                              'Model Logit 3 - without outliers and unsignificant variables','Model Logit 4 - without outliers, unsignificant variables, and multicolinearity'],\\\n",
    "              'Accuracy': [0.8381, 0.8378, 0.8607,0.8602]\n",
    "              }\n",
    "pd.DataFrame.from_dict(comparison_logit)"
   ]
  },
  {
   "cell_type": "markdown",
   "metadata": {},
   "source": [
    "From the four models above, we get the highest accuracy in Model 3 - model using data without outliers and unsignificant variables -, but it has multicolinearity inside. A good model is model tih less/without multicolinearity, so if you want to predict Rain in Australia data using Logistic Regression, I suggest you to using Model Logit 4. "
   ]
  },
  {
   "cell_type": "markdown",
   "metadata": {},
   "source": [
    "<h3>Model Logit Interpretation</h3>"
   ]
  },
  {
   "cell_type": "markdown",
   "metadata": {},
   "source": [
    "After get the best model from Logit, the next step is generate the model summary table and interpret the model coefficients."
   ]
  },
  {
   "cell_type": "code",
   "execution_count": 205,
   "metadata": {
    "ExecuteTime": {
     "end_time": "2020-06-03T04:04:55.574201Z",
     "start_time": "2020-06-03T04:04:53.245559Z"
    }
   },
   "outputs": [
    {
     "name": "stdout",
     "output_type": "stream",
     "text": [
      "Optimization terminated successfully.\n",
      "         Current function value: inf\n",
      "         Iterations 7\n",
      "                           Logit Regression Results                           \n",
      "==============================================================================\n",
      "Dep. Variable:                      y   No. Observations:                87567\n",
      "Model:                          Logit   Df Residuals:                    87529\n",
      "Method:                           MLE   Df Model:                           37\n",
      "Date:                Wed, 03 Jun 2020   Pseudo R-squ.:                     inf\n",
      "Time:                        11:04:55   Log-Likelihood:                   -inf\n",
      "converged:                       True   LL-Null:                        0.0000\n",
      "Covariance Type:            nonrobust   LLR p-value:                     1.000\n",
      "======================================================================================\n",
      "                         coef    std err          z      P>|z|      [0.025      0.975]\n",
      "--------------------------------------------------------------------------------------\n",
      "const                 -8.3786      0.108    -77.232      0.000      -8.591      -8.166\n",
      "MinTemp                0.0125      0.005      2.715      0.007       0.003       0.021\n",
      "Rainfall               0.4600      0.044     10.381      0.000       0.373       0.547\n",
      "WindGustSpeed          0.0656      0.001     51.013      0.000       0.063       0.068\n",
      "WindSpeed9am          -0.0134      0.002     -8.063      0.000      -0.017      -0.010\n",
      "WindSpeed3pm          -0.0357      0.002    -20.750      0.000      -0.039      -0.032\n",
      "Humidity3pm            0.0607      0.001     71.412      0.000       0.059       0.062\n",
      "Cloud9am               0.1220      0.006     22.005      0.000       0.111       0.133\n",
      "Temp                   0.0242      0.005      4.769      0.000       0.014       0.034\n",
      "WindGustDir_ESE        0.0518      0.055      0.935      0.350      -0.057       0.160\n",
      "WindGustDir_NE        -0.1704      0.053     -3.230      0.001      -0.274      -0.067\n",
      "WindGustDir_NNE       -0.1426      0.051     -2.770      0.006      -0.243      -0.042\n",
      "WindGustDir_SE         0.0874      0.049      1.778      0.075      -0.009       0.184\n",
      "WindGustDir_SSE       -0.0092      0.050     -0.183      0.855      -0.107       0.089\n",
      "WindGustDir_SW         0.0724      0.049      1.468      0.142      -0.024       0.169\n",
      "WindDir9am_ENE         0.3138      0.050      6.242      0.000       0.215       0.412\n",
      "WindDir9am_ESE        -0.0712      0.056     -1.281      0.200      -0.180       0.038\n",
      "WindDir9am_N           0.3817      0.040      9.663      0.000       0.304       0.459\n",
      "WindDir9am_NE          0.3696      0.049      7.536      0.000       0.273       0.466\n",
      "WindDir9am_NNE         0.5332      0.045     11.749      0.000       0.444       0.622\n",
      "WindDir9am_NW          0.1542      0.044      3.467      0.001       0.067       0.241\n",
      "WindDir9am_S          -0.1861      0.053     -3.537      0.000      -0.289      -0.083\n",
      "WindDir9am_SE         -0.1455      0.051     -2.845      0.004      -0.246      -0.045\n",
      "WindDir9am_SSE        -0.1306      0.052     -2.521      0.012      -0.232      -0.029\n",
      "WindDir9am_WNW         0.1507      0.050      3.040      0.002       0.054       0.248\n",
      "WindDir3pm_N           0.6425      0.046     13.956      0.000       0.552       0.733\n",
      "WindDir3pm_NE          0.0585      0.051      1.153      0.249      -0.041       0.158\n",
      "WindDir3pm_NNE         0.4028      0.053      7.631      0.000       0.299       0.506\n",
      "WindDir3pm_NNW         0.7405      0.048     15.571      0.000       0.647       0.834\n",
      "WindDir3pm_NW          0.8047      0.047     17.039      0.000       0.712       0.897\n",
      "WindDir3pm_S           0.0326      0.047      0.688      0.491      -0.060       0.126\n",
      "WindDir3pm_SSW         0.0628      0.054      1.173      0.241      -0.042       0.168\n",
      "WindDir3pm_W           0.3313      0.049      6.820      0.000       0.236       0.427\n",
      "WindDir3pm_WNW         0.6413      0.049     13.162      0.000       0.546       0.737\n",
      "WindDir3pm_WSW         0.1991      0.051      3.914      0.000       0.099       0.299\n",
      "WindDir3pm_unknown     0.4625      0.062      7.479      0.000       0.341       0.584\n",
      "RainToday_Yes         -0.2549      0.073     -3.468      0.001      -0.399      -0.111\n",
      "RainToday_unknown      1.6493      0.073     22.508      0.000       1.506       1.793\n",
      "======================================================================================\n"
     ]
    }
   ],
   "source": [
    "def fitLogisticRegression(X, y):\n",
    "    model = sm.Logit(y, sm.add_constant(X))\n",
    "    result = model.fit()\n",
    "    return result\n",
    "\n",
    "model_final = fitLogisticRegression(X_train_w2, y_train_w2)\n",
    "print(model_final.summary())"
   ]
  },
  {
   "cell_type": "markdown",
   "metadata": {},
   "source": [
    "Summary from the model above shown that most of the predictor variable are significant enough to predict target variable. From coefficient value, we get the information that each one-unit change in Rainfall will increase the log odds of tomorrow wil be rain by 0.46."
   ]
  },
  {
   "cell_type": "markdown",
   "metadata": {},
   "source": [
    "<h2>B. K-NN (K-Nearest Neighbors)</h2>"
   ]
  },
  {
   "cell_type": "markdown",
   "metadata": {},
   "source": [
    "<b>K-NN (K-Nearest Neighbors)</b> is supervised machine algorithm that can be used to solve both classification and regression problems. As same as with Logistic Regression models, K-NN have categorical value as targeted variable. The difference is K-NN using distance to classify similar things exist in close proximity. "
   ]
  },
  {
   "cell_type": "markdown",
   "metadata": {},
   "source": [
    "In this step, we will classify whether tommorow rain/not with K-NN model, using the data without outliers, unsignificant variables, and multicolinearity."
   ]
  },
  {
   "cell_type": "markdown",
   "metadata": {},
   "source": [
    "<h4>Exclude categorical variable from data</h4><br>\n",
    "K-NN using distance in classification process, so we need to exclude categorical variable and scaling values in each variables."
   ]
  },
  {
   "cell_type": "code",
   "execution_count": 207,
   "metadata": {
    "ExecuteTime": {
     "end_time": "2020-06-03T04:04:55.767277Z",
     "start_time": "2020-06-03T04:04:55.598459Z"
    }
   },
   "outputs": [],
   "source": [
    "X_wo_out3 = data_wo_outliers.drop(['WindGustDir','WindDir9am','WindDir3pm','RainToday','RainTomorrow'],axis=1)"
   ]
  },
  {
   "cell_type": "code",
   "execution_count": 208,
   "metadata": {
    "ExecuteTime": {
     "end_time": "2020-06-03T04:04:55.914930Z",
     "start_time": "2020-06-03T04:04:55.770263Z"
    }
   },
   "outputs": [],
   "source": [
    "X_train_w3, X_test_w3, y_train_w3, y_test_w3 = train_test_split(X_wo_out3, y_wo_out2, test_size=0.2, random_state=42)"
   ]
  },
  {
   "cell_type": "markdown",
   "metadata": {},
   "source": [
    "<h4>Scaling values from data</h4>"
   ]
  },
  {
   "cell_type": "code",
   "execution_count": 210,
   "metadata": {
    "ExecuteTime": {
     "end_time": "2020-06-03T04:04:56.156613Z",
     "start_time": "2020-06-03T04:04:56.033559Z"
    }
   },
   "outputs": [],
   "source": [
    "from sklearn import preprocessing\n",
    "scaler = preprocessing.MinMaxScaler()\n",
    "scaler.fit(X_wo_out3)\n",
    "X_wo_out3 = pd.DataFrame(scaler.transform(X_wo_out3), index=X_wo_out3.index, columns=X_wo_out3.columns)"
   ]
  },
  {
   "cell_type": "markdown",
   "metadata": {},
   "source": [
    "<h4>Create model</h4>"
   ]
  },
  {
   "cell_type": "code",
   "execution_count": 212,
   "metadata": {
    "ExecuteTime": {
     "end_time": "2020-06-03T04:04:56.899208Z",
     "start_time": "2020-06-03T04:04:56.257799Z"
    }
   },
   "outputs": [
    {
     "data": {
      "text/plain": [
       "KNeighborsClassifier(algorithm='auto', leaf_size=30, metric='minkowski',\n",
       "                     metric_params=None, n_jobs=None, n_neighbors=5, p=2,\n",
       "                     weights='uniform')"
      ]
     },
     "execution_count": 212,
     "metadata": {},
     "output_type": "execute_result"
    }
   ],
   "source": [
    "from sklearn.neighbors import KNeighborsClassifier\n",
    "classifier = KNeighborsClassifier(n_neighbors = 5)\n",
    "classifier.fit(X_train_w3,y_train_w3)"
   ]
  },
  {
   "cell_type": "code",
   "execution_count": 213,
   "metadata": {
    "ExecuteTime": {
     "end_time": "2020-06-03T04:05:01.627534Z",
     "start_time": "2020-06-03T04:04:56.902212Z"
    }
   },
   "outputs": [],
   "source": [
    "knn_pred = classifier.predict(X_test_w3)\n"
   ]
  },
  {
   "cell_type": "code",
   "execution_count": 214,
   "metadata": {
    "ExecuteTime": {
     "end_time": "2020-06-03T04:05:01.638150Z",
     "start_time": "2020-06-03T04:05:01.627534Z"
    }
   },
   "outputs": [
    {
     "name": "stdout",
     "output_type": "stream",
     "text": [
      "Accuracy : 0.8506303672574457\n"
     ]
    }
   ],
   "source": [
    "score = accuracy_score(y_test_w3,knn_pred)\n",
    "print('Accuracy :',score)"
   ]
  },
  {
   "cell_type": "markdown",
   "metadata": {},
   "source": [
    "From the result above K-NN model have accuracy value of <b>0.85</b>"
   ]
  },
  {
   "cell_type": "markdown",
   "metadata": {},
   "source": [
    "<h2>Matrix Evaluation (Recall and Precision)</h2>"
   ]
  },
  {
   "cell_type": "markdown",
   "metadata": {},
   "source": [
    "After we get the result from our modelling, the next step is evaluate our model using matrix evaluation as follows:<br>\n",
    "<img src=\"evalmetric2.png\" width=\"300\" /><br>\n",
    "Where :<br>\n",
    "`TP (True Positive)` : Predicted positive and the actual's positive <br>\n",
    "`TN (True Negative)` : Predicted negative and the actual's negative <br>\n",
    "`FP (False Positive)` : Predicted positive but the actual's negative <br>\n",
    "`FN (False Negative)` : Predicted negative but the actual's positive <br><br>\n",
    "From confusion Matrix above we can calculate best evaluation metric for our model: <br>\n",
    "<b>Recall :</b> Out of all the actual positive classes were predicted correctly.<br>\n",
    "<b>Precision :</b> Out of all the predicted positive classes were actually positive  "
   ]
  },
  {
   "cell_type": "markdown",
   "metadata": {},
   "source": [
    "<h3>Logistic Regression Model Logit 4</h3>"
   ]
  },
  {
   "cell_type": "code",
   "execution_count": 215,
   "metadata": {
    "ExecuteTime": {
     "end_time": "2020-06-03T04:05:02.176250Z",
     "start_time": "2020-06-03T04:05:01.641152Z"
    }
   },
   "outputs": [
    {
     "data": {
      "text/plain": [
       "<matplotlib.axes._subplots.AxesSubplot at 0x2195f56c48>"
      ]
     },
     "execution_count": 215,
     "metadata": {},
     "output_type": "execute_result"
    },
    {
     "data": {
      "image/png": "[encoded data removed]",
      "text/plain": [
       "<Figure size 432x288 with 2 Axes>"
      ]
     },
     "metadata": {
      "needs_background": "light"
     },
     "output_type": "display_data"
    }
   ],
   "source": [
    "from sklearn.metrics import confusion_matrix\n",
    "\n",
    "cm = confusion_matrix(y_test_w2, lr_pred_wo2)\n",
    "\n",
    "cm_matrix = pd.DataFrame(data=cm, columns=['Actual Positive:1', 'Actual Negative:0'], \n",
    "                                 index=['Predict Positive:1', 'Predict Negative:0'])\n",
    "\n",
    "sns.heatmap(cm_matrix, annot=True, fmt='d', cmap='YlGnBu')\n"
   ]
  },
  {
   "cell_type": "code",
   "execution_count": 216,
   "metadata": {
    "ExecuteTime": {
     "end_time": "2020-06-03T04:05:02.185258Z",
     "start_time": "2020-06-03T04:05:02.179254Z"
    }
   },
   "outputs": [],
   "source": [
    "TP = cm[0,0]\n",
    "TN = cm[1,1]\n",
    "FP = cm[0,1]\n",
    "FN = cm[1,0]"
   ]
  },
  {
   "cell_type": "markdown",
   "metadata": {},
   "source": [
    "<h4>Precision</h4>"
   ]
  },
  {
   "cell_type": "code",
   "execution_count": 217,
   "metadata": {
    "ExecuteTime": {
     "end_time": "2020-06-03T04:05:02.287191Z",
     "start_time": "2020-06-03T04:05:02.188260Z"
    }
   },
   "outputs": [
    {
     "name": "stdout",
     "output_type": "stream",
     "text": [
      "Precision : 0.9730455267627239\n"
     ]
    }
   ],
   "source": [
    "# print precision score\n",
    "\n",
    "precision = TP / float(TP + FP)\n",
    "\n",
    "\n",
    "print('Precision : {}'.format(precision))"
   ]
  },
  {
   "cell_type": "markdown",
   "metadata": {},
   "source": [
    "<h4>Recall</h4>"
   ]
  },
  {
   "cell_type": "code",
   "execution_count": 218,
   "metadata": {
    "ExecuteTime": {
     "end_time": "2020-06-03T04:05:02.407898Z",
     "start_time": "2020-06-03T04:05:02.289173Z"
    }
   },
   "outputs": [
    {
     "name": "stdout",
     "output_type": "stream",
     "text": [
      "Recall or Sensitivity : 0.8736779969501697\n"
     ]
    }
   ],
   "source": [
    "recall = TP / float(TP + FN)\n",
    "\n",
    "print('Recall or Sensitivity : {}'.format(recall))"
   ]
  },
  {
   "cell_type": "markdown",
   "metadata": {},
   "source": [
    "<h3>K-NN (K-Nearest Neighbors)</h3>"
   ]
  },
  {
   "cell_type": "code",
   "execution_count": 219,
   "metadata": {
    "ExecuteTime": {
     "end_time": "2020-06-03T04:05:02.827187Z",
     "start_time": "2020-06-03T04:05:02.412902Z"
    }
   },
   "outputs": [
    {
     "data": {
      "text/plain": [
       "<matplotlib.axes._subplots.AxesSubplot at 0x21940070c8>"
      ]
     },
     "execution_count": 219,
     "metadata": {},
     "output_type": "execute_result"
    },
    {
     "data": {
      "image/png": "[encoded data removed]",
      "text/plain": [
       "<Figure size 432x288 with 2 Axes>"
      ]
     },
     "metadata": {
      "needs_background": "light"
     },
     "output_type": "display_data"
    }
   ],
   "source": [
    "cm_knn = confusion_matrix(y_test_w3, knn_pred)\n",
    "\n",
    "cm_matrix_knn = pd.DataFrame(data=cm_knn, columns=['Actual Positive:1', 'Actual Negative:0'], \n",
    "                                 index=['Predict Positive:1', 'Predict Negative:0'])\n",
    "\n",
    "sns.heatmap(cm_matrix_knn, annot=True, fmt='d', cmap='YlOrRd_r')"
   ]
  },
  {
   "cell_type": "code",
   "execution_count": 220,
   "metadata": {
    "ExecuteTime": {
     "end_time": "2020-06-03T04:05:02.835173Z",
     "start_time": "2020-06-03T04:05:02.830171Z"
    }
   },
   "outputs": [],
   "source": [
    "TP_KNN = cm_knn[0,0]\n",
    "TN_KNN = cm_knn[1,1]\n",
    "FP_KNN = cm_knn[0,1]\n",
    "FN_KNN = cm_knn[1,0]"
   ]
  },
  {
   "cell_type": "markdown",
   "metadata": {},
   "source": [
    "<h4>Precision</h4>"
   ]
  },
  {
   "cell_type": "code",
   "execution_count": 221,
   "metadata": {
    "ExecuteTime": {
     "end_time": "2020-06-03T04:05:02.955263Z",
     "start_time": "2020-06-03T04:05:02.846180Z"
    }
   },
   "outputs": [
    {
     "name": "stdout",
     "output_type": "stream",
     "text": [
      "Precision : 0.9551306634525831\n"
     ]
    }
   ],
   "source": [
    "# print precision score\n",
    "\n",
    "precision_knn = TP_KNN / float(TP_KNN + FP_KNN)\n",
    "\n",
    "\n",
    "print('Precision : {}'.format(precision_knn))"
   ]
  },
  {
   "cell_type": "markdown",
   "metadata": {},
   "source": [
    "<h4>Recall</h4>"
   ]
  },
  {
   "cell_type": "code",
   "execution_count": 222,
   "metadata": {
    "ExecuteTime": {
     "end_time": "2020-06-03T04:05:03.053400Z",
     "start_time": "2020-06-03T04:05:02.966267Z"
    }
   },
   "outputs": [
    {
     "name": "stdout",
     "output_type": "stream",
     "text": [
      "Recall or Sensitivity : 0.8767412622579834\n"
     ]
    }
   ],
   "source": [
    "recall_knn = TP_KNN / float(TP_KNN + FN_KNN)\n",
    "\n",
    "print('Recall or Sensitivity : {}'.format(recall_knn))"
   ]
  },
  {
   "cell_type": "markdown",
   "metadata": {},
   "source": [
    "<h2>Model Comparison</h2>"
   ]
  },
  {
   "cell_type": "code",
   "execution_count": 224,
   "metadata": {
    "ExecuteTime": {
     "end_time": "2020-06-03T06:48:48.953029Z",
     "start_time": "2020-06-03T06:48:45.355612Z"
    }
   },
   "outputs": [
    {
     "data": {
      "text/html": [
       "<div>\n",
       "<style scoped>\n",
       "    .dataframe tbody tr th:only-of-type {\n",
       "        vertical-align: middle;\n",
       "    }\n",
       "\n",
       "    .dataframe tbody tr th {\n",
       "        vertical-align: top;\n",
       "    }\n",
       "\n",
       "    .dataframe thead th {\n",
       "        text-align: right;\n",
       "    }\n",
       "</style>\n",
       "<table border=\"1\" class=\"dataframe\">\n",
       "  <thead>\n",
       "    <tr style=\"text-align: right;\">\n",
       "      <th></th>\n",
       "      <th>Model</th>\n",
       "      <th>Accuracy</th>\n",
       "      <th>Precision</th>\n",
       "      <th>Recall</th>\n",
       "    </tr>\n",
       "  </thead>\n",
       "  <tbody>\n",
       "    <tr>\n",
       "      <th>0</th>\n",
       "      <td>Logistic Regression</td>\n",
       "      <td>0.860</td>\n",
       "      <td>0.970</td>\n",
       "      <td>0.870</td>\n",
       "    </tr>\n",
       "    <tr>\n",
       "      <th>1</th>\n",
       "      <td>K-Nearest Neighbor</td>\n",
       "      <td>0.850</td>\n",
       "      <td>0.955</td>\n",
       "      <td>0.877</td>\n",
       "    </tr>\n",
       "  </tbody>\n",
       "</table>\n",
       "</div>"
      ],
      "text/plain": [
       "                 Model  Accuracy  Precision  Recall\n",
       "0  Logistic Regression     0.860      0.970   0.870\n",
       "1   K-Nearest Neighbor     0.850      0.955   0.877"
      ]
     },
     "execution_count": 224,
     "metadata": {},
     "output_type": "execute_result"
    }
   ],
   "source": [
    "comparison = {'Model': ['Logistic Regression', 'K-Nearest Neighbor'],\\\n",
    "              'Accuracy': [0.86,0.85],\\\n",
    "              'Precision':[0.97,0.955],\\\n",
    "              'Recall':[0.87,0.8767]}\n",
    "pd.DataFrame.from_dict(comparison)"
   ]
  },
  {
   "cell_type": "markdown",
   "metadata": {},
   "source": [
    "<h2>Conclusion</h2>"
   ]
  },
  {
   "cell_type": "markdown",
   "metadata": {},
   "source": [
    "From the result above, we can conclude that :<br>\n",
    "1. Remove outliers, unsignificant variables, and multicolinearity can improve accuracy from the model.<br>\n",
    "2. From the above models in Logistic Regression, Model-4 (without outliers, unsignificant variables, and multicolinearity) is the best model<br>\n",
    "3. The increasing amount of Rainfall will increase probability of tomorrow wil be rain.\n",
    "4. Both models either Logistic Regression and K-Nearest Neighbor have high value in metrics evaluation, it's mean that you can consider to choose one of these models to predict Rain Australia data."
   ]
  }
 ],
 "metadata": {
  "kernelspec": {
   "display_name": "Python 3",
   "language": "python",
   "name": "python3"
  },
  "language_info": {
   "codemirror_mode": {
    "name": "ipython",
    "version": 3
   },
   "file_extension": ".py",
   "mimetype": "text/x-python",
   "name": "python",
   "nbconvert_exporter": "python",
   "pygments_lexer": "ipython3",
   "version": "3.7.6"
  },
  "latex_envs": {
   "LaTeX_envs_menu_present": true,
   "autoclose": false,
   "autocomplete": true,
   "bibliofile": "biblio.bib",
   "cite_by": "apalike",
   "current_citInitial": 1,
   "eqLabelWithNumbers": true,
   "eqNumInitial": 1,
   "hotkeys": {
    "equation": "Ctrl-E",
    "itemize": "Ctrl-I"
   },
   "labels_anchors": false,
   "latex_user_defs": false,
   "report_style_numbering": false,
   "user_envs_cfg": false
  },
  "varInspector": {
   "cols": {
    "lenName": 16,
    "lenType": 16,
    "lenVar": 40
   },
   "kernels_config": {
    "python": {
     "delete_cmd_postfix": "",
     "delete_cmd_prefix": "del ",
     "library": "var_list.py",
     "varRefreshCmd": "print(var_dic_list())"
    },
    "r": {
     "delete_cmd_postfix": ") ",
     "delete_cmd_prefix": "rm(",
     "library": "var_list.r",
     "varRefreshCmd": "cat(var_dic_list()) "
    }
   },
   "types_to_exclude": [
    "module",
    "function",
    "builtin_function_or_method",
    "instance",
    "_Feature"
   ],
   "window_display": false
  }
 },
 "nbformat": 4,
 "nbformat_minor": 4
}
