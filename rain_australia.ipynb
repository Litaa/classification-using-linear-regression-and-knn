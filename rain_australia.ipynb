{
 "cells": [
  {
   "cell_type": "markdown",
   "metadata": {},
   "source": [
    "# Rain Prediction using Logistic Regression and K-NN"
   ]
  },
  {
   "cell_type": "markdown",
   "metadata": {},
   "source": [
    "<h2>Introduction</h2>"
   ]
  },
  {
   "cell_type": "code",
   "execution_count": 190,
   "metadata": {
    "ExecuteTime": {
     "end_time": "2020-05-27T08:47:20.271311Z",
     "start_time": "2020-05-27T08:47:20.210305Z"
    }
   },
   "outputs": [],
   "source": [
    "import pandas as pd\n",
    "import numpy as np\n",
    "import seaborn as sns\n",
    "import matplotlib.pyplot as plt\n",
    "from sklearn.model_selection import train_test_split\n",
    "from sklearn.linear_model import LogisticRegression\n",
    "from sklearn.metrics import accuracy_score, f1_score, confusion_matrix, recall_score, classification_report\n",
    "import statsmodels.api as sm\n",
    "%matplotlib inline\n",
    "import warnings\n",
    "\n",
    "warnings.filterwarnings('ignore')\n",
    "\n",
    "pd.set_option('display.float_format', lambda x: '%.3f' % x)"
   ]
  },
  {
   "cell_type": "code",
   "execution_count": 191,
   "metadata": {
    "ExecuteTime": {
     "end_time": "2020-05-27T08:47:22.717896Z",
     "start_time": "2020-05-27T08:47:20.275332Z"
    }
   },
   "outputs": [],
   "source": [
    "data = pd.read_csv('data_input/weatherAUS.csv')"
   ]
  },
  {
   "cell_type": "code",
   "execution_count": 192,
   "metadata": {
    "ExecuteTime": {
     "end_time": "2020-05-27T08:47:23.408888Z",
     "start_time": "2020-05-27T08:47:22.717896Z"
    },
    "scrolled": true
   },
   "outputs": [
    {
     "data": {
      "text/html": [
       "<div>\n",
       "<style scoped>\n",
       "    .dataframe tbody tr th:only-of-type {\n",
       "        vertical-align: middle;\n",
       "    }\n",
       "\n",
       "    .dataframe tbody tr th {\n",
       "        vertical-align: top;\n",
       "    }\n",
       "\n",
       "    .dataframe thead th {\n",
       "        text-align: right;\n",
       "    }\n",
       "</style>\n",
       "<table border=\"1\" class=\"dataframe\">\n",
       "  <thead>\n",
       "    <tr style=\"text-align: right;\">\n",
       "      <th></th>\n",
       "      <th>Date</th>\n",
       "      <th>Location</th>\n",
       "      <th>MinTemp</th>\n",
       "      <th>MaxTemp</th>\n",
       "      <th>Rainfall</th>\n",
       "      <th>Evaporation</th>\n",
       "      <th>Sunshine</th>\n",
       "      <th>WindGustDir</th>\n",
       "      <th>WindGustSpeed</th>\n",
       "      <th>WindDir9am</th>\n",
       "      <th>...</th>\n",
       "      <th>Humidity3pm</th>\n",
       "      <th>Pressure9am</th>\n",
       "      <th>Pressure3pm</th>\n",
       "      <th>Cloud9am</th>\n",
       "      <th>Cloud3pm</th>\n",
       "      <th>Temp9am</th>\n",
       "      <th>Temp3pm</th>\n",
       "      <th>RainToday</th>\n",
       "      <th>RISK_MM</th>\n",
       "      <th>RainTomorrow</th>\n",
       "    </tr>\n",
       "  </thead>\n",
       "  <tbody>\n",
       "    <tr>\n",
       "      <th>0</th>\n",
       "      <td>2008-12-01</td>\n",
       "      <td>Albury</td>\n",
       "      <td>13.400</td>\n",
       "      <td>22.900</td>\n",
       "      <td>0.600</td>\n",
       "      <td>nan</td>\n",
       "      <td>nan</td>\n",
       "      <td>W</td>\n",
       "      <td>44.000</td>\n",
       "      <td>W</td>\n",
       "      <td>...</td>\n",
       "      <td>22.000</td>\n",
       "      <td>1007.700</td>\n",
       "      <td>1007.100</td>\n",
       "      <td>8.000</td>\n",
       "      <td>nan</td>\n",
       "      <td>16.900</td>\n",
       "      <td>21.800</td>\n",
       "      <td>No</td>\n",
       "      <td>0.000</td>\n",
       "      <td>No</td>\n",
       "    </tr>\n",
       "    <tr>\n",
       "      <th>1</th>\n",
       "      <td>2008-12-02</td>\n",
       "      <td>Albury</td>\n",
       "      <td>7.400</td>\n",
       "      <td>25.100</td>\n",
       "      <td>0.000</td>\n",
       "      <td>nan</td>\n",
       "      <td>nan</td>\n",
       "      <td>WNW</td>\n",
       "      <td>44.000</td>\n",
       "      <td>NNW</td>\n",
       "      <td>...</td>\n",
       "      <td>25.000</td>\n",
       "      <td>1010.600</td>\n",
       "      <td>1007.800</td>\n",
       "      <td>nan</td>\n",
       "      <td>nan</td>\n",
       "      <td>17.200</td>\n",
       "      <td>24.300</td>\n",
       "      <td>No</td>\n",
       "      <td>0.000</td>\n",
       "      <td>No</td>\n",
       "    </tr>\n",
       "    <tr>\n",
       "      <th>2</th>\n",
       "      <td>2008-12-03</td>\n",
       "      <td>Albury</td>\n",
       "      <td>12.900</td>\n",
       "      <td>25.700</td>\n",
       "      <td>0.000</td>\n",
       "      <td>nan</td>\n",
       "      <td>nan</td>\n",
       "      <td>WSW</td>\n",
       "      <td>46.000</td>\n",
       "      <td>W</td>\n",
       "      <td>...</td>\n",
       "      <td>30.000</td>\n",
       "      <td>1007.600</td>\n",
       "      <td>1008.700</td>\n",
       "      <td>nan</td>\n",
       "      <td>2.000</td>\n",
       "      <td>21.000</td>\n",
       "      <td>23.200</td>\n",
       "      <td>No</td>\n",
       "      <td>0.000</td>\n",
       "      <td>No</td>\n",
       "    </tr>\n",
       "    <tr>\n",
       "      <th>3</th>\n",
       "      <td>2008-12-04</td>\n",
       "      <td>Albury</td>\n",
       "      <td>9.200</td>\n",
       "      <td>28.000</td>\n",
       "      <td>0.000</td>\n",
       "      <td>nan</td>\n",
       "      <td>nan</td>\n",
       "      <td>NE</td>\n",
       "      <td>24.000</td>\n",
       "      <td>SE</td>\n",
       "      <td>...</td>\n",
       "      <td>16.000</td>\n",
       "      <td>1017.600</td>\n",
       "      <td>1012.800</td>\n",
       "      <td>nan</td>\n",
       "      <td>nan</td>\n",
       "      <td>18.100</td>\n",
       "      <td>26.500</td>\n",
       "      <td>No</td>\n",
       "      <td>1.000</td>\n",
       "      <td>No</td>\n",
       "    </tr>\n",
       "    <tr>\n",
       "      <th>4</th>\n",
       "      <td>2008-12-05</td>\n",
       "      <td>Albury</td>\n",
       "      <td>17.500</td>\n",
       "      <td>32.300</td>\n",
       "      <td>1.000</td>\n",
       "      <td>nan</td>\n",
       "      <td>nan</td>\n",
       "      <td>W</td>\n",
       "      <td>41.000</td>\n",
       "      <td>ENE</td>\n",
       "      <td>...</td>\n",
       "      <td>33.000</td>\n",
       "      <td>1010.800</td>\n",
       "      <td>1006.000</td>\n",
       "      <td>7.000</td>\n",
       "      <td>8.000</td>\n",
       "      <td>17.800</td>\n",
       "      <td>29.700</td>\n",
       "      <td>No</td>\n",
       "      <td>0.200</td>\n",
       "      <td>No</td>\n",
       "    </tr>\n",
       "  </tbody>\n",
       "</table>\n",
       "<p>5 rows × 24 columns</p>\n",
       "</div>"
      ],
      "text/plain": [
       "         Date Location  MinTemp  MaxTemp  Rainfall  Evaporation  Sunshine  \\\n",
       "0  2008-12-01   Albury   13.400   22.900     0.600          nan       nan   \n",
       "1  2008-12-02   Albury    7.400   25.100     0.000          nan       nan   \n",
       "2  2008-12-03   Albury   12.900   25.700     0.000          nan       nan   \n",
       "3  2008-12-04   Albury    9.200   28.000     0.000          nan       nan   \n",
       "4  2008-12-05   Albury   17.500   32.300     1.000          nan       nan   \n",
       "\n",
       "  WindGustDir  WindGustSpeed WindDir9am  ... Humidity3pm  Pressure9am  \\\n",
       "0           W         44.000          W  ...      22.000     1007.700   \n",
       "1         WNW         44.000        NNW  ...      25.000     1010.600   \n",
       "2         WSW         46.000          W  ...      30.000     1007.600   \n",
       "3          NE         24.000         SE  ...      16.000     1017.600   \n",
       "4           W         41.000        ENE  ...      33.000     1010.800   \n",
       "\n",
       "   Pressure3pm  Cloud9am  Cloud3pm  Temp9am  Temp3pm  RainToday  RISK_MM  \\\n",
       "0     1007.100     8.000       nan   16.900   21.800         No    0.000   \n",
       "1     1007.800       nan       nan   17.200   24.300         No    0.000   \n",
       "2     1008.700       nan     2.000   21.000   23.200         No    0.000   \n",
       "3     1012.800       nan       nan   18.100   26.500         No    1.000   \n",
       "4     1006.000     7.000     8.000   17.800   29.700         No    0.200   \n",
       "\n",
       "   RainTomorrow  \n",
       "0            No  \n",
       "1            No  \n",
       "2            No  \n",
       "3            No  \n",
       "4            No  \n",
       "\n",
       "[5 rows x 24 columns]"
      ]
     },
     "execution_count": 192,
     "metadata": {},
     "output_type": "execute_result"
    }
   ],
   "source": [
    "data.head()"
   ]
  },
  {
   "cell_type": "code",
   "execution_count": 193,
   "metadata": {
    "ExecuteTime": {
     "end_time": "2020-05-27T08:47:23.440895Z",
     "start_time": "2020-05-27T08:47:23.416894Z"
    }
   },
   "outputs": [
    {
     "data": {
      "text/plain": [
       "(142193, 24)"
      ]
     },
     "execution_count": 193,
     "metadata": {},
     "output_type": "execute_result"
    }
   ],
   "source": [
    "data.shape"
   ]
  },
  {
   "cell_type": "code",
   "execution_count": 194,
   "metadata": {
    "ExecuteTime": {
     "end_time": "2020-05-27T08:47:23.973196Z",
     "start_time": "2020-05-27T08:47:23.444893Z"
    }
   },
   "outputs": [
    {
     "name": "stdout",
     "output_type": "stream",
     "text": [
      "<class 'pandas.core.frame.DataFrame'>\n",
      "RangeIndex: 142193 entries, 0 to 142192\n",
      "Data columns (total 24 columns):\n",
      " #   Column         Non-Null Count   Dtype  \n",
      "---  ------         --------------   -----  \n",
      " 0   Date           142193 non-null  object \n",
      " 1   Location       142193 non-null  object \n",
      " 2   MinTemp        141556 non-null  float64\n",
      " 3   MaxTemp        141871 non-null  float64\n",
      " 4   Rainfall       140787 non-null  float64\n",
      " 5   Evaporation    81350 non-null   float64\n",
      " 6   Sunshine       74377 non-null   float64\n",
      " 7   WindGustDir    132863 non-null  object \n",
      " 8   WindGustSpeed  132923 non-null  float64\n",
      " 9   WindDir9am     132180 non-null  object \n",
      " 10  WindDir3pm     138415 non-null  object \n",
      " 11  WindSpeed9am   140845 non-null  float64\n",
      " 12  WindSpeed3pm   139563 non-null  float64\n",
      " 13  Humidity9am    140419 non-null  float64\n",
      " 14  Humidity3pm    138583 non-null  float64\n",
      " 15  Pressure9am    128179 non-null  float64\n",
      " 16  Pressure3pm    128212 non-null  float64\n",
      " 17  Cloud9am       88536 non-null   float64\n",
      " 18  Cloud3pm       85099 non-null   float64\n",
      " 19  Temp9am        141289 non-null  float64\n",
      " 20  Temp3pm        139467 non-null  float64\n",
      " 21  RainToday      140787 non-null  object \n",
      " 22  RISK_MM        142193 non-null  float64\n",
      " 23  RainTomorrow   142193 non-null  object \n",
      "dtypes: float64(17), object(7)\n",
      "memory usage: 26.0+ MB\n"
     ]
    }
   ],
   "source": [
    "data.info()"
   ]
  },
  {
   "cell_type": "markdown",
   "metadata": {},
   "source": [
    "<h4>Drop RISK_MM</h4>"
   ]
  },
  {
   "cell_type": "code",
   "execution_count": 195,
   "metadata": {
    "ExecuteTime": {
     "end_time": "2020-05-27T08:47:24.201658Z",
     "start_time": "2020-05-27T08:47:23.985198Z"
    }
   },
   "outputs": [],
   "source": [
    "data.drop(['Location','RISK_MM','Date'], axis=1, inplace=True)"
   ]
  },
  {
   "cell_type": "markdown",
   "metadata": {},
   "source": [
    "<h4>Change date data types</h4>"
   ]
  },
  {
   "cell_type": "code",
   "execution_count": 196,
   "metadata": {
    "ExecuteTime": {
     "end_time": "2020-05-27T08:47:24.406755Z",
     "start_time": "2020-05-27T08:47:24.205647Z"
    }
   },
   "outputs": [],
   "source": [
    "#data['Date'] = data['Date'].astype('datetime64')"
   ]
  },
  {
   "cell_type": "markdown",
   "metadata": {},
   "source": [
    "<h3>Working with Categorical Data</h3>"
   ]
  },
  {
   "cell_type": "markdown",
   "metadata": {},
   "source": [
    "<h4>Fill missing value in categorical data with wording 'unknown'</h4>"
   ]
  },
  {
   "cell_type": "code",
   "execution_count": 197,
   "metadata": {
    "ExecuteTime": {
     "end_time": "2020-05-27T08:47:24.868872Z",
     "start_time": "2020-05-27T08:47:24.414727Z"
    }
   },
   "outputs": [],
   "source": [
    "data[['WindGustDir','WindDir9am','WindDir3pm','RainToday']] = \\\n",
    "data[['WindGustDir','WindDir9am','WindDir3pm','RainToday']].fillna('unknown')"
   ]
  },
  {
   "cell_type": "markdown",
   "metadata": {},
   "source": [
    "<h4>Change Data Types</h4>"
   ]
  },
  {
   "cell_type": "code",
   "execution_count": 198,
   "metadata": {
    "ExecuteTime": {
     "end_time": "2020-05-27T08:47:25.234653Z",
     "start_time": "2020-05-27T08:47:24.868872Z"
    }
   },
   "outputs": [],
   "source": [
    "data[['WindGustDir','WindDir9am','WindDir3pm','RainToday','RainTomorrow']] = \\\n",
    "data[['WindGustDir','WindDir9am','WindDir3pm','RainToday','RainTomorrow']].astype('category')"
   ]
  },
  {
   "cell_type": "markdown",
   "metadata": {},
   "source": [
    "<h4>Check categorical level</h4>"
   ]
  },
  {
   "cell_type": "code",
   "execution_count": 199,
   "metadata": {
    "ExecuteTime": {
     "end_time": "2020-05-27T08:47:25.246606Z",
     "start_time": "2020-05-27T08:47:25.234653Z"
    }
   },
   "outputs": [],
   "source": [
    "categorical = data[['WindGustDir','WindDir9am','WindDir3pm','RainToday','RainTomorrow']]"
   ]
  },
  {
   "cell_type": "code",
   "execution_count": 200,
   "metadata": {
    "ExecuteTime": {
     "end_time": "2020-05-27T08:47:25.402971Z",
     "start_time": "2020-05-27T08:47:25.246606Z"
    }
   },
   "outputs": [
    {
     "name": "stdout",
     "output_type": "stream",
     "text": [
      "WindGustDir contains 17  labels\n",
      "WindDir9am contains 17  labels\n",
      "WindDir3pm contains 17  labels\n",
      "RainToday contains 3  labels\n",
      "RainTomorrow contains 2  labels\n"
     ]
    }
   ],
   "source": [
    "for var in categorical:\n",
    "    print(var,'contains',len(data[var].unique()), ' labels')"
   ]
  },
  {
   "cell_type": "markdown",
   "metadata": {},
   "source": [
    "<h3>Working with Numerical Data</h3>"
   ]
  },
  {
   "cell_type": "code",
   "execution_count": 201,
   "metadata": {
    "ExecuteTime": {
     "end_time": "2020-05-27T08:47:26.310588Z",
     "start_time": "2020-05-27T08:47:25.406949Z"
    }
   },
   "outputs": [],
   "source": [
    "numerical = data.select_dtypes(include='number')"
   ]
  },
  {
   "cell_type": "code",
   "execution_count": 202,
   "metadata": {
    "ExecuteTime": {
     "end_time": "2020-05-27T08:47:26.764245Z",
     "start_time": "2020-05-27T08:47:26.310588Z"
    },
    "scrolled": true
   },
   "outputs": [
    {
     "data": {
      "text/html": [
       "<div>\n",
       "<style scoped>\n",
       "    .dataframe tbody tr th:only-of-type {\n",
       "        vertical-align: middle;\n",
       "    }\n",
       "\n",
       "    .dataframe tbody tr th {\n",
       "        vertical-align: top;\n",
       "    }\n",
       "\n",
       "    .dataframe thead th {\n",
       "        text-align: right;\n",
       "    }\n",
       "</style>\n",
       "<table border=\"1\" class=\"dataframe\">\n",
       "  <thead>\n",
       "    <tr style=\"text-align: right;\">\n",
       "      <th></th>\n",
       "      <th>MinTemp</th>\n",
       "      <th>MaxTemp</th>\n",
       "      <th>Rainfall</th>\n",
       "      <th>Evaporation</th>\n",
       "      <th>Sunshine</th>\n",
       "      <th>WindGustSpeed</th>\n",
       "      <th>WindSpeed9am</th>\n",
       "      <th>WindSpeed3pm</th>\n",
       "      <th>Humidity9am</th>\n",
       "      <th>Humidity3pm</th>\n",
       "      <th>Pressure9am</th>\n",
       "      <th>Pressure3pm</th>\n",
       "      <th>Cloud9am</th>\n",
       "      <th>Cloud3pm</th>\n",
       "      <th>Temp9am</th>\n",
       "      <th>Temp3pm</th>\n",
       "    </tr>\n",
       "  </thead>\n",
       "  <tbody>\n",
       "    <tr>\n",
       "      <th>count</th>\n",
       "      <td>141556.000</td>\n",
       "      <td>141871.000</td>\n",
       "      <td>140787.000</td>\n",
       "      <td>81350.000</td>\n",
       "      <td>74377.000</td>\n",
       "      <td>132923.000</td>\n",
       "      <td>140845.000</td>\n",
       "      <td>139563.000</td>\n",
       "      <td>140419.000</td>\n",
       "      <td>138583.000</td>\n",
       "      <td>128179.000</td>\n",
       "      <td>128212.000</td>\n",
       "      <td>88536.000</td>\n",
       "      <td>85099.000</td>\n",
       "      <td>141289.000</td>\n",
       "      <td>139467.000</td>\n",
       "    </tr>\n",
       "    <tr>\n",
       "      <th>mean</th>\n",
       "      <td>12.186</td>\n",
       "      <td>23.227</td>\n",
       "      <td>2.350</td>\n",
       "      <td>5.470</td>\n",
       "      <td>7.625</td>\n",
       "      <td>39.984</td>\n",
       "      <td>14.002</td>\n",
       "      <td>18.638</td>\n",
       "      <td>68.844</td>\n",
       "      <td>51.483</td>\n",
       "      <td>1017.654</td>\n",
       "      <td>1015.258</td>\n",
       "      <td>4.437</td>\n",
       "      <td>4.503</td>\n",
       "      <td>16.988</td>\n",
       "      <td>21.687</td>\n",
       "    </tr>\n",
       "    <tr>\n",
       "      <th>std</th>\n",
       "      <td>6.403</td>\n",
       "      <td>7.118</td>\n",
       "      <td>8.465</td>\n",
       "      <td>4.189</td>\n",
       "      <td>3.782</td>\n",
       "      <td>13.589</td>\n",
       "      <td>8.893</td>\n",
       "      <td>8.803</td>\n",
       "      <td>19.051</td>\n",
       "      <td>20.798</td>\n",
       "      <td>7.105</td>\n",
       "      <td>7.037</td>\n",
       "      <td>2.887</td>\n",
       "      <td>2.721</td>\n",
       "      <td>6.493</td>\n",
       "      <td>6.938</td>\n",
       "    </tr>\n",
       "    <tr>\n",
       "      <th>min</th>\n",
       "      <td>-8.500</td>\n",
       "      <td>-4.800</td>\n",
       "      <td>0.000</td>\n",
       "      <td>0.000</td>\n",
       "      <td>0.000</td>\n",
       "      <td>6.000</td>\n",
       "      <td>0.000</td>\n",
       "      <td>0.000</td>\n",
       "      <td>0.000</td>\n",
       "      <td>0.000</td>\n",
       "      <td>980.500</td>\n",
       "      <td>977.100</td>\n",
       "      <td>0.000</td>\n",
       "      <td>0.000</td>\n",
       "      <td>-7.200</td>\n",
       "      <td>-5.400</td>\n",
       "    </tr>\n",
       "    <tr>\n",
       "      <th>25%</th>\n",
       "      <td>7.600</td>\n",
       "      <td>17.900</td>\n",
       "      <td>0.000</td>\n",
       "      <td>2.600</td>\n",
       "      <td>4.900</td>\n",
       "      <td>31.000</td>\n",
       "      <td>7.000</td>\n",
       "      <td>13.000</td>\n",
       "      <td>57.000</td>\n",
       "      <td>37.000</td>\n",
       "      <td>1012.900</td>\n",
       "      <td>1010.400</td>\n",
       "      <td>1.000</td>\n",
       "      <td>2.000</td>\n",
       "      <td>12.300</td>\n",
       "      <td>16.600</td>\n",
       "    </tr>\n",
       "    <tr>\n",
       "      <th>50%</th>\n",
       "      <td>12.000</td>\n",
       "      <td>22.600</td>\n",
       "      <td>0.000</td>\n",
       "      <td>4.800</td>\n",
       "      <td>8.500</td>\n",
       "      <td>39.000</td>\n",
       "      <td>13.000</td>\n",
       "      <td>19.000</td>\n",
       "      <td>70.000</td>\n",
       "      <td>52.000</td>\n",
       "      <td>1017.600</td>\n",
       "      <td>1015.200</td>\n",
       "      <td>5.000</td>\n",
       "      <td>5.000</td>\n",
       "      <td>16.700</td>\n",
       "      <td>21.100</td>\n",
       "    </tr>\n",
       "    <tr>\n",
       "      <th>75%</th>\n",
       "      <td>16.800</td>\n",
       "      <td>28.200</td>\n",
       "      <td>0.800</td>\n",
       "      <td>7.400</td>\n",
       "      <td>10.600</td>\n",
       "      <td>48.000</td>\n",
       "      <td>19.000</td>\n",
       "      <td>24.000</td>\n",
       "      <td>83.000</td>\n",
       "      <td>66.000</td>\n",
       "      <td>1022.400</td>\n",
       "      <td>1020.000</td>\n",
       "      <td>7.000</td>\n",
       "      <td>7.000</td>\n",
       "      <td>21.600</td>\n",
       "      <td>26.400</td>\n",
       "    </tr>\n",
       "    <tr>\n",
       "      <th>max</th>\n",
       "      <td>33.900</td>\n",
       "      <td>48.100</td>\n",
       "      <td>371.000</td>\n",
       "      <td>145.000</td>\n",
       "      <td>14.500</td>\n",
       "      <td>135.000</td>\n",
       "      <td>130.000</td>\n",
       "      <td>87.000</td>\n",
       "      <td>100.000</td>\n",
       "      <td>100.000</td>\n",
       "      <td>1041.000</td>\n",
       "      <td>1039.600</td>\n",
       "      <td>9.000</td>\n",
       "      <td>9.000</td>\n",
       "      <td>40.200</td>\n",
       "      <td>46.700</td>\n",
       "    </tr>\n",
       "  </tbody>\n",
       "</table>\n",
       "</div>"
      ],
      "text/plain": [
       "         MinTemp    MaxTemp   Rainfall  Evaporation  Sunshine  WindGustSpeed  \\\n",
       "count 141556.000 141871.000 140787.000    81350.000 74377.000     132923.000   \n",
       "mean      12.186     23.227      2.350        5.470     7.625         39.984   \n",
       "std        6.403      7.118      8.465        4.189     3.782         13.589   \n",
       "min       -8.500     -4.800      0.000        0.000     0.000          6.000   \n",
       "25%        7.600     17.900      0.000        2.600     4.900         31.000   \n",
       "50%       12.000     22.600      0.000        4.800     8.500         39.000   \n",
       "75%       16.800     28.200      0.800        7.400    10.600         48.000   \n",
       "max       33.900     48.100    371.000      145.000    14.500        135.000   \n",
       "\n",
       "       WindSpeed9am  WindSpeed3pm  Humidity9am  Humidity3pm  Pressure9am  \\\n",
       "count    140845.000    139563.000   140419.000   138583.000   128179.000   \n",
       "mean         14.002        18.638       68.844       51.483     1017.654   \n",
       "std           8.893         8.803       19.051       20.798        7.105   \n",
       "min           0.000         0.000        0.000        0.000      980.500   \n",
       "25%           7.000        13.000       57.000       37.000     1012.900   \n",
       "50%          13.000        19.000       70.000       52.000     1017.600   \n",
       "75%          19.000        24.000       83.000       66.000     1022.400   \n",
       "max         130.000        87.000      100.000      100.000     1041.000   \n",
       "\n",
       "       Pressure3pm  Cloud9am  Cloud3pm    Temp9am    Temp3pm  \n",
       "count   128212.000 88536.000 85099.000 141289.000 139467.000  \n",
       "mean      1015.258     4.437     4.503     16.988     21.687  \n",
       "std          7.037     2.887     2.721      6.493      6.938  \n",
       "min        977.100     0.000     0.000     -7.200     -5.400  \n",
       "25%       1010.400     1.000     2.000     12.300     16.600  \n",
       "50%       1015.200     5.000     5.000     16.700     21.100  \n",
       "75%       1020.000     7.000     7.000     21.600     26.400  \n",
       "max       1039.600     9.000     9.000     40.200     46.700  "
      ]
     },
     "execution_count": 202,
     "metadata": {},
     "output_type": "execute_result"
    }
   ],
   "source": [
    "numerical.describe()"
   ]
  },
  {
   "cell_type": "code",
   "execution_count": 203,
   "metadata": {
    "ExecuteTime": {
     "end_time": "2020-05-27T08:47:26.784233Z",
     "start_time": "2020-05-27T08:47:26.764245Z"
    }
   },
   "outputs": [
    {
     "data": {
      "text/plain": [
       "MinTemp         0.004\n",
       "MaxTemp         0.002\n",
       "Rainfall        0.010\n",
       "Evaporation     0.428\n",
       "Sunshine        0.477\n",
       "WindGustSpeed   0.065\n",
       "WindSpeed9am    0.009\n",
       "WindSpeed3pm    0.018\n",
       "Humidity9am     0.012\n",
       "Humidity3pm     0.025\n",
       "Pressure9am     0.099\n",
       "Pressure3pm     0.098\n",
       "Cloud9am        0.377\n",
       "Cloud3pm        0.402\n",
       "Temp9am         0.006\n",
       "Temp3pm         0.019\n",
       "dtype: float64"
      ]
     },
     "execution_count": 203,
     "metadata": {},
     "output_type": "execute_result"
    }
   ],
   "source": [
    "numerical.isna().sum()/len(data)"
   ]
  },
  {
   "cell_type": "markdown",
   "metadata": {},
   "source": [
    "<h4>Delete columns which contains missing value about 40% from data length </h4>"
   ]
  },
  {
   "cell_type": "code",
   "execution_count": 204,
   "metadata": {
    "ExecuteTime": {
     "end_time": "2020-05-27T08:47:27.006523Z",
     "start_time": "2020-05-27T08:47:26.784233Z"
    }
   },
   "outputs": [],
   "source": [
    "data.drop(['Evaporation','Sunshine','Cloud3pm'], axis=1, inplace=True)"
   ]
  },
  {
   "cell_type": "code",
   "execution_count": 205,
   "metadata": {
    "ExecuteTime": {
     "end_time": "2020-05-27T08:51:20.787650Z",
     "start_time": "2020-05-27T08:47:27.010471Z"
    }
   },
   "outputs": [
    {
     "data": {
      "text/plain": [
       "Text(0.5, 1.0, '')"
      ]
     },
     "execution_count": 205,
     "metadata": {},
     "output_type": "execute_result"
    },
    {
     "data": {
      "image/png": "[encoded data removed]",
      "text/plain": [
       "<Figure size 1080x2880 with 13 Axes>"
      ]
     },
     "metadata": {
      "needs_background": "light"
     },
     "output_type": "display_data"
    }
   ],
   "source": [
    "plt.figure(figsize=(15,40))\n",
    "\n",
    "plt.subplot(9, 4, 1)\n",
    "fig = data.boxplot(column='MinTemp')\n",
    "fig.set_title('')\n",
    "\n",
    "plt.subplot(9, 4, 2)\n",
    "fig = data.boxplot(column='MaxTemp')\n",
    "fig.set_title('')\n",
    "\n",
    "plt.subplot(9, 4, 3)\n",
    "fig = data.boxplot(column='Rainfall')\n",
    "fig.set_title('')\n",
    "\n",
    "plt.subplot(9, 4, 4)\n",
    "fig = data.boxplot(column='WindGustSpeed')\n",
    "fig.set_title('')\n",
    "\n",
    "plt.subplot(9, 4, 5)\n",
    "fig = data.boxplot(column='WindSpeed9am')\n",
    "fig.set_title('')\n",
    "\n",
    "plt.subplot(9, 4, 6)\n",
    "fig = data.boxplot(column='WindSpeed3pm')\n",
    "fig.set_title('')\n",
    "\n",
    "plt.subplot(9, 4, 7)\n",
    "fig = data.boxplot(column='Humidity9am')\n",
    "fig.set_title('')\n",
    "\n",
    "plt.subplot(9, 4, 8)\n",
    "fig = data.boxplot(column='Humidity3pm')\n",
    "fig.set_title('')\n",
    "\n",
    "plt.subplot(9, 4, 9)\n",
    "fig = data.boxplot(column='Pressure9am')\n",
    "fig.set_title('')\n",
    "\n",
    "plt.subplot(9, 4, 10)\n",
    "fig = data.boxplot(column='Pressure3pm')\n",
    "fig.set_title('')\n",
    "\n",
    "plt.subplot(9, 4, 11)\n",
    "fig = data.boxplot(column='Cloud9am')\n",
    "fig.set_title('')\n",
    "\n",
    "plt.subplot(9, 4, 12)\n",
    "fig = data.boxplot(column='Temp9am')\n",
    "fig.set_title('')\n",
    "\n",
    "plt.subplot(9, 4, 13)\n",
    "fig = data.boxplot(column='Temp3pm')\n",
    "fig.set_title('')"
   ]
  },
  {
   "cell_type": "markdown",
   "metadata": {},
   "source": [
    "<h4>Impute missing value</h4>"
   ]
  },
  {
   "cell_type": "code",
   "execution_count": 206,
   "metadata": {
    "ExecuteTime": {
     "end_time": "2020-05-27T08:51:21.004702Z",
     "start_time": "2020-05-27T08:51:20.827677Z"
    }
   },
   "outputs": [],
   "source": [
    "med_ = data[['MinTemp','MaxTemp','Rainfall','WindGustSpeed','WindSpeed9am','WindSpeed3pm','Humidity9am','Pressure9am',\\\n",
    "             'Pressure3pm','Temp9am','Temp3pm']]\n",
    "men_ = data[['Humidity3pm','Cloud9am']]"
   ]
  },
  {
   "cell_type": "code",
   "execution_count": 207,
   "metadata": {
    "ExecuteTime": {
     "end_time": "2020-05-27T08:51:21.939799Z",
     "start_time": "2020-05-27T08:51:21.008685Z"
    }
   },
   "outputs": [],
   "source": [
    "for col in med_:\n",
    "    col_median=data[col].median()\n",
    "    data[col].fillna(col_median, inplace=True)\n",
    "for col_ in men_:\n",
    "    col_mean=data[col_].mean()\n",
    "    data[col_].fillna(col_mean,inplace=True)"
   ]
  },
  {
   "cell_type": "markdown",
   "metadata": {},
   "source": [
    "<h4>Remove outliers</h4>"
   ]
  },
  {
   "cell_type": "code",
   "execution_count": 208,
   "metadata": {
    "ExecuteTime": {
     "end_time": "2020-05-27T08:51:23.484057Z",
     "start_time": "2020-05-27T08:51:22.075779Z"
    }
   },
   "outputs": [],
   "source": [
    "Q1 = numerical.quantile(0.25)\n",
    "Q3 = numerical.quantile(0.75)\n",
    "IQR = Q3 - Q1"
   ]
  },
  {
   "cell_type": "code",
   "execution_count": 209,
   "metadata": {
    "ExecuteTime": {
     "end_time": "2020-05-27T08:51:29.519546Z",
     "start_time": "2020-05-27T08:51:23.516006Z"
    }
   },
   "outputs": [
    {
     "data": {
      "text/plain": [
       "MinTemp             62\n",
       "MaxTemp            459\n",
       "Rainfall         25228\n",
       "Evaporation       1954\n",
       "Sunshine             0\n",
       "WindGustSpeed     3006\n",
       "WindSpeed9am      1739\n",
       "WindSpeed3pm      2458\n",
       "Humidity9am       1419\n",
       "Humidity3pm          0\n",
       "Pressure9am       1174\n",
       "Pressure3pm        906\n",
       "Cloud9am             0\n",
       "Cloud3pm             0\n",
       "Temp9am            247\n",
       "Temp3pm            735\n",
       "dtype: int64"
      ]
     },
     "execution_count": 209,
     "metadata": {},
     "output_type": "execute_result"
    }
   ],
   "source": [
    "#count of outliers\n",
    "((numerical < (Q1 - 1.5 * IQR)) | (numerical > (Q3 + 1.5 * IQR))).sum()"
   ]
  },
  {
   "cell_type": "code",
   "execution_count": 210,
   "metadata": {
    "ExecuteTime": {
     "end_time": "2020-05-27T08:51:30.459963Z",
     "start_time": "2020-05-27T08:51:29.527548Z"
    }
   },
   "outputs": [
    {
     "data": {
      "text/plain": [
       "(109459, 18)"
      ]
     },
     "execution_count": 210,
     "metadata": {},
     "output_type": "execute_result"
    }
   ],
   "source": [
    "data = data[~((numerical < (Q1 - 1.5 * IQR)) |(numerical > (Q3 + 1.5 * IQR))).any(axis=1)]\n",
    "data.shape"
   ]
  },
  {
   "cell_type": "markdown",
   "metadata": {},
   "source": [
    "<h2>Exploratory Data Analysis</h2>"
   ]
  },
  {
   "cell_type": "code",
   "execution_count": 211,
   "metadata": {
    "ExecuteTime": {
     "end_time": "2020-05-27T08:51:33.454226Z",
     "start_time": "2020-05-27T08:51:30.467964Z"
    }
   },
   "outputs": [
    {
     "data": {
      "image/png": "[encoded data removed]",
      "text/plain": [
       "<Figure size 432x288 with 1 Axes>"
      ]
     },
     "metadata": {
      "needs_background": "light"
     },
     "output_type": "display_data"
    }
   ],
   "source": [
    "def plotProportion(data):\n",
    "    ax = categorical.groupby(['RainTomorrow', 'WindGustDir']).size().unstack().plot(kind='bar', stacked=True)\n",
    "    for rect in ax.patches:\n",
    "        height = rect.get_height()\n",
    "        width = rect.get_width()\n",
    "        padding = 0.25\n",
    "\n",
    "        ax.text(rect.get_x() + width - padding, \n",
    "                rect.get_y() + height / 2, \n",
    "                int(height), \n",
    "                ha = 'center', va = 'center',\n",
    "                color = \"white\")\n",
    "\n",
    "plotProportion(categorical)\n",
    "plt.title(\"proportion of categorical predictor to targeted class\", fontsize = 14, fontweight = \"bold\")\n",
    "plt.show()"
   ]
  },
  {
   "cell_type": "code",
   "execution_count": 212,
   "metadata": {
    "ExecuteTime": {
     "end_time": "2020-05-27T08:51:34.202400Z",
     "start_time": "2020-05-27T08:51:33.458227Z"
    }
   },
   "outputs": [
    {
     "data": {
      "image/png": "[encoded data removed]",
      "text/plain": [
       "<Figure size 432x288 with 1 Axes>"
      ]
     },
     "metadata": {
      "needs_background": "light"
     },
     "output_type": "display_data"
    }
   ],
   "source": [
    "def plotProportion(data):\n",
    "    ax = categorical.groupby(['RainTomorrow', 'RainToday']).size().unstack().plot(kind='bar', stacked=True)\n",
    "    for rect in ax.patches:\n",
    "        height = rect.get_height()\n",
    "        width = rect.get_width()\n",
    "        padding = 0.25\n",
    "\n",
    "        ax.text(rect.get_x() + width - padding, \n",
    "                rect.get_y() + height / 2, \n",
    "                int(height), \n",
    "                ha = 'center', va = 'center',\n",
    "                color = \"white\")\n",
    "\n",
    "plotProportion(categorical)\n",
    "plt.title(\"proportion of categorical predictor to targeted class\", fontsize = 14, fontweight = \"bold\")\n",
    "plt.show()"
   ]
  },
  {
   "cell_type": "code",
   "execution_count": 213,
   "metadata": {
    "ExecuteTime": {
     "end_time": "2020-05-27T08:51:34.683437Z",
     "start_time": "2020-05-27T08:51:34.230408Z"
    }
   },
   "outputs": [
    {
     "name": "stdout",
     "output_type": "stream",
     "text": [
      "Rain 16.0 %\n",
      "No Rain 84.0 %\n"
     ]
    },
    {
     "data": {
      "image/png": "[encoded data removed]",
      "text/plain": [
       "<Figure size 432x288 with 1 Axes>"
      ]
     },
     "metadata": {},
     "output_type": "display_data"
    }
   ],
   "source": [
    "data['RainTomorrow'].value_counts().plot(kind = 'pie', labels = [ 'No Rain','Rain'])\n",
    "print('Rain', round(data['RainTomorrow'].value_counts()['Yes']/len(data) * 100), '%')\n",
    "print('No Rain', round(data['RainTomorrow'].value_counts()['No']/len(data) * 100), '%')"
   ]
  },
  {
   "cell_type": "markdown",
   "metadata": {},
   "source": [
    "<h2>Modelling</h2>"
   ]
  },
  {
   "cell_type": "markdown",
   "metadata": {},
   "source": [
    "<h2>A. Logistic Regression</h2>"
   ]
  },
  {
   "cell_type": "code",
   "execution_count": 214,
   "metadata": {
    "ExecuteTime": {
     "end_time": "2020-05-27T08:51:34.991453Z",
     "start_time": "2020-05-27T08:51:34.691432Z"
    }
   },
   "outputs": [],
   "source": [
    "cat_columns = data.select_dtypes(['category']).columns\n",
    "data_new = pd.get_dummies(data, columns = cat_columns, drop_first = True)"
   ]
  },
  {
   "cell_type": "code",
   "execution_count": 215,
   "metadata": {
    "ExecuteTime": {
     "end_time": "2020-05-27T08:51:35.276547Z",
     "start_time": "2020-05-27T08:51:34.995477Z"
    }
   },
   "outputs": [
    {
     "data": {
      "text/html": [
       "<div>\n",
       "<style scoped>\n",
       "    .dataframe tbody tr th:only-of-type {\n",
       "        vertical-align: middle;\n",
       "    }\n",
       "\n",
       "    .dataframe tbody tr th {\n",
       "        vertical-align: top;\n",
       "    }\n",
       "\n",
       "    .dataframe thead th {\n",
       "        text-align: right;\n",
       "    }\n",
       "</style>\n",
       "<table border=\"1\" class=\"dataframe\">\n",
       "  <thead>\n",
       "    <tr style=\"text-align: right;\">\n",
       "      <th></th>\n",
       "      <th>MinTemp</th>\n",
       "      <th>MaxTemp</th>\n",
       "      <th>Rainfall</th>\n",
       "      <th>WindGustSpeed</th>\n",
       "      <th>WindSpeed9am</th>\n",
       "      <th>WindSpeed3pm</th>\n",
       "      <th>Humidity9am</th>\n",
       "      <th>Humidity3pm</th>\n",
       "      <th>Pressure9am</th>\n",
       "      <th>Pressure3pm</th>\n",
       "      <th>...</th>\n",
       "      <th>WindDir3pm_SSE</th>\n",
       "      <th>WindDir3pm_SSW</th>\n",
       "      <th>WindDir3pm_SW</th>\n",
       "      <th>WindDir3pm_W</th>\n",
       "      <th>WindDir3pm_WNW</th>\n",
       "      <th>WindDir3pm_WSW</th>\n",
       "      <th>WindDir3pm_unknown</th>\n",
       "      <th>RainToday_Yes</th>\n",
       "      <th>RainToday_unknown</th>\n",
       "      <th>RainTomorrow_Yes</th>\n",
       "    </tr>\n",
       "  </thead>\n",
       "  <tbody>\n",
       "    <tr>\n",
       "      <th>0</th>\n",
       "      <td>13.400</td>\n",
       "      <td>22.900</td>\n",
       "      <td>0.600</td>\n",
       "      <td>44.000</td>\n",
       "      <td>20.000</td>\n",
       "      <td>24.000</td>\n",
       "      <td>71.000</td>\n",
       "      <td>22.000</td>\n",
       "      <td>1007.700</td>\n",
       "      <td>1007.100</td>\n",
       "      <td>...</td>\n",
       "      <td>0</td>\n",
       "      <td>0</td>\n",
       "      <td>0</td>\n",
       "      <td>0</td>\n",
       "      <td>1</td>\n",
       "      <td>0</td>\n",
       "      <td>0</td>\n",
       "      <td>0</td>\n",
       "      <td>0</td>\n",
       "      <td>0</td>\n",
       "    </tr>\n",
       "    <tr>\n",
       "      <th>1</th>\n",
       "      <td>7.400</td>\n",
       "      <td>25.100</td>\n",
       "      <td>0.000</td>\n",
       "      <td>44.000</td>\n",
       "      <td>4.000</td>\n",
       "      <td>22.000</td>\n",
       "      <td>44.000</td>\n",
       "      <td>25.000</td>\n",
       "      <td>1010.600</td>\n",
       "      <td>1007.800</td>\n",
       "      <td>...</td>\n",
       "      <td>0</td>\n",
       "      <td>0</td>\n",
       "      <td>0</td>\n",
       "      <td>0</td>\n",
       "      <td>0</td>\n",
       "      <td>1</td>\n",
       "      <td>0</td>\n",
       "      <td>0</td>\n",
       "      <td>0</td>\n",
       "      <td>0</td>\n",
       "    </tr>\n",
       "  </tbody>\n",
       "</table>\n",
       "<p>2 rows × 64 columns</p>\n",
       "</div>"
      ],
      "text/plain": [
       "   MinTemp  MaxTemp  Rainfall  WindGustSpeed  WindSpeed9am  WindSpeed3pm  \\\n",
       "0   13.400   22.900     0.600         44.000        20.000        24.000   \n",
       "1    7.400   25.100     0.000         44.000         4.000        22.000   \n",
       "\n",
       "   Humidity9am  Humidity3pm  Pressure9am  Pressure3pm  ...  WindDir3pm_SSE  \\\n",
       "0       71.000       22.000     1007.700     1007.100  ...               0   \n",
       "1       44.000       25.000     1010.600     1007.800  ...               0   \n",
       "\n",
       "   WindDir3pm_SSW  WindDir3pm_SW  WindDir3pm_W  WindDir3pm_WNW  \\\n",
       "0               0              0             0               1   \n",
       "1               0              0             0               0   \n",
       "\n",
       "   WindDir3pm_WSW  WindDir3pm_unknown  RainToday_Yes  RainToday_unknown  \\\n",
       "0               0                   0              0                  0   \n",
       "1               1                   0              0                  0   \n",
       "\n",
       "   RainTomorrow_Yes  \n",
       "0                 0  \n",
       "1                 0  \n",
       "\n",
       "[2 rows x 64 columns]"
      ]
     },
     "execution_count": 215,
     "metadata": {},
     "output_type": "execute_result"
    }
   ],
   "source": [
    "data_new.head(2)"
   ]
  },
  {
   "cell_type": "code",
   "execution_count": 216,
   "metadata": {
    "ExecuteTime": {
     "end_time": "2020-05-27T08:51:35.960075Z",
     "start_time": "2020-05-27T08:51:35.284542Z"
    }
   },
   "outputs": [
    {
     "name": "stdout",
     "output_type": "stream",
     "text": [
      "X_train: (87567, 63)\n",
      "X_test: (21892, 63)\n",
      "y_train: (87567,)\n",
      "y_test: (21892,)\n"
     ]
    }
   ],
   "source": [
    "#separate predictor and target\n",
    "X = data_new.drop('RainTomorrow_Yes', axis=1)\n",
    "y = data_new.RainTomorrow_Yes.values\n",
    "\n",
    "#setting up testing and training sets\n",
    "X_train, X_test, y_train, y_test = train_test_split(X, y, test_size=0.2, random_state=42)\n",
    "print(\"X_train:\",X_train.shape)\n",
    "print(\"X_test:\",X_test.shape)\n",
    "print(\"y_train:\",y_train.shape)\n",
    "print(\"y_test:\",y_test.shape)"
   ]
  },
  {
   "cell_type": "code",
   "execution_count": 217,
   "metadata": {
    "ExecuteTime": {
     "end_time": "2020-05-27T08:51:47.674733Z",
     "start_time": "2020-05-27T08:51:35.968082Z"
    }
   },
   "outputs": [],
   "source": [
    "lr = LogisticRegression(multi_class='ovr',solver='liblinear').fit(X_train, y_train)\n",
    "lr_pred = lr.predict(X_test)"
   ]
  },
  {
   "cell_type": "code",
   "execution_count": 221,
   "metadata": {
    "ExecuteTime": {
     "end_time": "2020-05-27T08:51:53.640214Z",
     "start_time": "2020-05-27T08:51:53.432199Z"
    }
   },
   "outputs": [
    {
     "name": "stdout",
     "output_type": "stream",
     "text": [
      "Classification accuracy : 0.8617\n"
     ]
    }
   ],
   "source": [
    "print(accuracy_score(y_test_up, lr_pred_up))"
   ]
  },
  {
   "cell_type": "markdown",
   "metadata": {},
   "source": [
    "<h3>Feature Engineering</h3>"
   ]
  },
  {
   "cell_type": "markdown",
   "metadata": {},
   "source": [
    "<h4>Upsampling Process</h4>"
   ]
  },
  {
   "cell_type": "code",
   "execution_count": 222,
   "metadata": {
    "ExecuteTime": {
     "end_time": "2020-05-27T08:51:55.033265Z",
     "start_time": "2020-05-27T08:51:53.648217Z"
    }
   },
   "outputs": [
    {
     "data": {
      "text/plain": [
       "<matplotlib.axes._subplots.AxesSubplot at 0x214445fe08>"
      ]
     },
     "execution_count": 222,
     "metadata": {},
     "output_type": "execute_result"
    },
    {
     "data": {
      "image/png": "[encoded data removed]",
      "text/plain": [
       "<Figure size 432x288 with 1 Axes>"
      ]
     },
     "metadata": {},
     "output_type": "display_data"
    }
   ],
   "source": [
    "#doing upsampling\n",
    "from sklearn.utils import resample\n",
    "\n",
    "rain = data[data.RainTomorrow == 'Yes']\n",
    "no_rain = data[data.RainTomorrow == 'No']\n",
    "\n",
    "rain_upsampling = resample(rain, replace=True, n_samples = len(no_rain), random_state = 42)\n",
    "rain_upsampling = pd.concat([no_rain,rain_upsampling])\n",
    "rain_upsampling['RainTomorrow'].value_counts()\n",
    "rain_upsampling['RainTomorrow'].value_counts().plot(kind = 'pie', labels = [ 'No Rain','Rain'])"
   ]
  },
  {
   "cell_type": "code",
   "execution_count": 223,
   "metadata": {
    "ExecuteTime": {
     "end_time": "2020-05-27T08:51:55.882306Z",
     "start_time": "2020-05-27T08:51:55.037237Z"
    }
   },
   "outputs": [],
   "source": [
    "cat_columns = rain_upsampling.select_dtypes(['category']).columns\n",
    "data_up = pd.get_dummies(rain_upsampling, columns = cat_columns, drop_first = True)"
   ]
  },
  {
   "cell_type": "code",
   "execution_count": 224,
   "metadata": {
    "ExecuteTime": {
     "end_time": "2020-05-27T08:51:57.294403Z",
     "start_time": "2020-05-27T08:51:55.886258Z"
    }
   },
   "outputs": [
    {
     "name": "stdout",
     "output_type": "stream",
     "text": [
      "X_train: (146923, 63)\n",
      "X_test: (36731, 63)\n",
      "y_train: (146923,)\n",
      "y_test: (36731,)\n"
     ]
    }
   ],
   "source": [
    "#separate predictor and target\n",
    "X_up = data_up.drop('RainTomorrow_Yes', axis=1)\n",
    "y_up = data_up.RainTomorrow_Yes.values\n",
    "\n",
    "#setting up testing and training sets\n",
    "X_train_up, X_test_up, y_train_up, y_test_up = train_test_split(X_up, y_up, test_size=0.2, random_state=42)\n",
    "print(\"X_train:\",X_train_up.shape)\n",
    "print(\"X_test:\",X_test_up.shape)\n",
    "print(\"y_train:\",y_train_up.shape)\n",
    "print(\"y_test:\",y_test_up.shape)"
   ]
  },
  {
   "cell_type": "code",
   "execution_count": 225,
   "metadata": {
    "ExecuteTime": {
     "end_time": "2020-05-27T08:52:23.797956Z",
     "start_time": "2020-05-27T08:51:57.302376Z"
    },
    "scrolled": true
   },
   "outputs": [],
   "source": [
    "lr_up = LogisticRegression(multi_class='ovr',solver='liblinear').fit(X_train_up, y_train_up)\n",
    "lr_pred_up = lr_up.predict(X_test_up)"
   ]
  },
  {
   "cell_type": "code",
   "execution_count": 226,
   "metadata": {
    "ExecuteTime": {
     "end_time": "2020-05-27T08:52:23.921964Z",
     "start_time": "2020-05-27T08:52:23.797956Z"
    }
   },
   "outputs": [
    {
     "name": "stdout",
     "output_type": "stream",
     "text": [
      "0.7560643598050693\n"
     ]
    }
   ],
   "source": [
    "print(accuracy_score(y_test_up, lr_pred_up))"
   ]
  },
  {
   "cell_type": "markdown",
   "metadata": {},
   "source": [
    "<h2>B. K-NN</h2>"
   ]
  },
  {
   "cell_type": "code",
   "execution_count": 229,
   "metadata": {
    "ExecuteTime": {
     "end_time": "2020-05-27T08:58:47.465705Z",
     "start_time": "2020-05-27T08:58:47.337694Z"
    }
   },
   "outputs": [],
   "source": [
    "from sklearn import preprocessing\n",
    "scaler = preprocessing.MinMaxScaler()\n",
    "scaler.fit(X)\n",
    "X = pd.DataFrame(scaler.transform(X), index=X.index, columns=X.columns)"
   ]
  },
  {
   "cell_type": "code",
   "execution_count": 231,
   "metadata": {
    "ExecuteTime": {
     "end_time": "2020-05-27T09:00:24.131341Z",
     "start_time": "2020-05-27T09:00:19.696765Z"
    }
   },
   "outputs": [
    {
     "data": {
      "text/plain": [
       "KNeighborsClassifier(algorithm='auto', leaf_size=30, metric='minkowski',\n",
       "                     metric_params=None, n_jobs=None, n_neighbors=5, p=2,\n",
       "                     weights='uniform')"
      ]
     },
     "execution_count": 231,
     "metadata": {},
     "output_type": "execute_result"
    }
   ],
   "source": [
    "from sklearn.neighbors import KNeighborsClassifier\n",
    "classifier = KNeighborsClassifier(n_neighbors = 5)\n",
    "classifier.fit(X_train,y_train)"
   ]
  },
  {
   "cell_type": "code",
   "execution_count": 232,
   "metadata": {
    "ExecuteTime": {
     "end_time": "2020-05-27T09:02:29.354327Z",
     "start_time": "2020-05-27T09:02:06.804187Z"
    }
   },
   "outputs": [],
   "source": [
    "knn_pred = classifier.predict(X_test)\n"
   ]
  },
  {
   "cell_type": "code",
   "execution_count": 233,
   "metadata": {
    "ExecuteTime": {
     "end_time": "2020-05-27T09:02:29.916439Z",
     "start_time": "2020-05-27T09:02:29.742354Z"
    }
   },
   "outputs": [
    {
     "name": "stdout",
     "output_type": "stream",
     "text": [
      "Accuracy : 0.8532340581034168\n"
     ]
    }
   ],
   "source": [
    "score = accuracy_score(y_test,knn_pred)\n",
    "print('Accuracy :',score)"
   ]
  },
  {
   "cell_type": "markdown",
   "metadata": {},
   "source": [
    "<h2>ROC-AUC</h2>"
   ]
  },
  {
   "cell_type": "markdown",
   "metadata": {},
   "source": [
    "<h3>Logistic Regression</h3>"
   ]
  },
  {
   "cell_type": "code",
   "execution_count": 234,
   "metadata": {
    "ExecuteTime": {
     "end_time": "2020-05-27T09:07:04.804062Z",
     "start_time": "2020-05-27T09:06:56.374254Z"
    }
   },
   "outputs": [
    {
     "data": {
      "text/plain": [
       "<matplotlib.axes._subplots.AxesSubplot at 0x211dbc5108>"
      ]
     },
     "execution_count": 234,
     "metadata": {},
     "output_type": "execute_result"
    },
    {
     "data": {
      "image/png": "[encoded data removed]",
      "text/plain": [
       "<Figure size 432x288 with 1 Axes>"
      ]
     },
     "metadata": {
      "needs_background": "light"
     },
     "output_type": "display_data"
    }
   ],
   "source": [
    "import scikitplot as skplt\n",
    "skplt.metrics.plot_roc(y_test, lr.predict_proba(X_test)) "
   ]
  },
  {
   "cell_type": "markdown",
   "metadata": {},
   "source": [
    "<h3>K-NN</h3>"
   ]
  },
  {
   "cell_type": "code",
   "execution_count": 235,
   "metadata": {
    "ExecuteTime": {
     "end_time": "2020-05-27T09:08:34.609513Z",
     "start_time": "2020-05-27T09:08:13.536342Z"
    }
   },
   "outputs": [
    {
     "data": {
      "text/plain": [
       "<matplotlib.axes._subplots.AxesSubplot at 0x2149e6ca48>"
      ]
     },
     "execution_count": 235,
     "metadata": {},
     "output_type": "execute_result"
    },
    {
     "data": {
      "image/png": "[encoded data removed]",
      "text/plain": [
       "<Figure size 432x288 with 1 Axes>"
      ]
     },
     "metadata": {
      "needs_background": "light"
     },
     "output_type": "display_data"
    }
   ],
   "source": [
    "skplt.metrics.plot_roc(y_test, classifier.predict_proba(X_test)) "
   ]
  },
  {
   "cell_type": "markdown",
   "metadata": {},
   "source": [
    "<h2>Recall and Precision</h2>"
   ]
  },
  {
   "cell_type": "markdown",
   "metadata": {},
   "source": [
    "<h3>Logistic Regression</h3>"
   ]
  },
  {
   "cell_type": "code",
   "execution_count": 236,
   "metadata": {
    "ExecuteTime": {
     "end_time": "2020-05-27T09:11:34.606239Z",
     "start_time": "2020-05-27T09:11:32.406285Z"
    }
   },
   "outputs": [
    {
     "data": {
      "text/plain": [
       "<matplotlib.axes._subplots.AxesSubplot at 0x214e0cd688>"
      ]
     },
     "execution_count": 236,
     "metadata": {},
     "output_type": "execute_result"
    },
    {
     "data": {
      "image/png": "[encoded data removed]",
      "text/plain": [
       "<Figure size 432x288 with 2 Axes>"
      ]
     },
     "metadata": {
      "needs_background": "light"
     },
     "output_type": "display_data"
    }
   ],
   "source": [
    "from sklearn.metrics import confusion_matrix\n",
    "\n",
    "cm = confusion_matrix(y_test, lr_pred)\n",
    "\n",
    "cm_matrix = pd.DataFrame(data=cm, columns=['Actual Positive:1', 'Actual Negative:0'], \n",
    "                                 index=['Predict Positive:1', 'Predict Negative:0'])\n",
    "\n",
    "sns.heatmap(cm_matrix, annot=True, fmt='d', cmap='YlGnBu')\n"
   ]
  },
  {
   "cell_type": "code",
   "execution_count": 237,
   "metadata": {
    "ExecuteTime": {
     "end_time": "2020-05-27T09:11:37.658429Z",
     "start_time": "2020-05-27T09:11:37.646426Z"
    }
   },
   "outputs": [],
   "source": [
    "TP = cm[0,0]\n",
    "TN = cm[1,1]\n",
    "FP = cm[0,1]\n",
    "FN = cm[1,0]"
   ]
  },
  {
   "cell_type": "code",
   "execution_count": 238,
   "metadata": {
    "ExecuteTime": {
     "end_time": "2020-05-27T09:14:12.414297Z",
     "start_time": "2020-05-27T09:14:12.358080Z"
    }
   },
   "outputs": [
    {
     "name": "stdout",
     "output_type": "stream",
     "text": [
      "Precision : 0.9719498164685257\n"
     ]
    }
   ],
   "source": [
    "# print precision score\n",
    "\n",
    "precision = TP / float(TP + FP)\n",
    "\n",
    "\n",
    "print('Precision : {}'.format(precision))"
   ]
  },
  {
   "cell_type": "code",
   "execution_count": 239,
   "metadata": {
    "ExecuteTime": {
     "end_time": "2020-05-27T09:14:52.679910Z",
     "start_time": "2020-05-27T09:14:52.667906Z"
    }
   },
   "outputs": [
    {
     "name": "stdout",
     "output_type": "stream",
     "text": [
      "Recall or Sensitivity : 0.8757960211284987\n"
     ]
    }
   ],
   "source": [
    "recall = TP / float(TP + FN)\n",
    "\n",
    "print('Recall or Sensitivity : {}'.format(recall))"
   ]
  },
  {
   "cell_type": "markdown",
   "metadata": {},
   "source": [
    "<h3>K-NN</h3>"
   ]
  },
  {
   "cell_type": "code",
   "execution_count": 240,
   "metadata": {
    "ExecuteTime": {
     "end_time": "2020-05-27T09:16:53.409136Z",
     "start_time": "2020-05-27T09:16:52.633039Z"
    }
   },
   "outputs": [
    {
     "data": {
      "text/plain": [
       "<matplotlib.axes._subplots.AxesSubplot at 0x214119fe48>"
      ]
     },
     "execution_count": 240,
     "metadata": {},
     "output_type": "execute_result"
    },
    {
     "data": {
      "image/png": "[encoded data removed]",
      "text/plain": [
       "<Figure size 432x288 with 2 Axes>"
      ]
     },
     "metadata": {
      "needs_background": "light"
     },
     "output_type": "display_data"
    }
   ],
   "source": [
    "cm_knn = confusion_matrix(y_test, knn_pred)\n",
    "\n",
    "cm_matrix_knn = pd.DataFrame(data=cm_knn, columns=['Actual Positive:1', 'Actual Negative:0'], \n",
    "                                 index=['Predict Positive:1', 'Predict Negative:0'])\n",
    "\n",
    "sns.heatmap(cm_matrix_knn, annot=True, fmt='d', cmap='YlOrRd_r')"
   ]
  },
  {
   "cell_type": "code",
   "execution_count": 241,
   "metadata": {
    "ExecuteTime": {
     "end_time": "2020-05-27T09:19:43.192352Z",
     "start_time": "2020-05-27T09:19:43.160348Z"
    }
   },
   "outputs": [],
   "source": [
    "TP_KNN = cm_knn[0,0]\n",
    "TN_KNN = cm_knn[1,1]\n",
    "FP_KNN = cm_knn[0,1]\n",
    "FN_KNN = cm_knn[1,0]"
   ]
  },
  {
   "cell_type": "code",
   "execution_count": 242,
   "metadata": {
    "ExecuteTime": {
     "end_time": "2020-05-27T09:20:32.750781Z",
     "start_time": "2020-05-27T09:20:32.742779Z"
    }
   },
   "outputs": [
    {
     "name": "stdout",
     "output_type": "stream",
     "text": [
      "Precision : 0.956445515805621\n"
     ]
    }
   ],
   "source": [
    "# print precision score\n",
    "\n",
    "precision_knn = TP_KNN / float(TP_KNN + FP_KNN)\n",
    "\n",
    "\n",
    "print('Precision : {}'.format(precision_knn))"
   ]
  },
  {
   "cell_type": "code",
   "execution_count": 243,
   "metadata": {
    "ExecuteTime": {
     "end_time": "2020-05-27T09:21:10.051817Z",
     "start_time": "2020-05-27T09:21:10.043815Z"
    }
   },
   "outputs": [
    {
     "name": "stdout",
     "output_type": "stream",
     "text": [
      "Recall or Sensitivity : 0.8783457436103844\n"
     ]
    }
   ],
   "source": [
    "recall_knn = TP_KNN / float(TP_KNN + FN_KNN)\n",
    "\n",
    "print('Recall or Sensitivity : {}'.format(recall_knn))"
   ]
  },
  {
   "cell_type": "markdown",
   "metadata": {},
   "source": [
    "<h2>Conclusion</h2>"
   ]
  },
  {
   "cell_type": "code",
   "execution_count": null,
   "metadata": {},
   "outputs": [],
   "source": []
  }
 ],
 "metadata": {
  "kernelspec": {
   "display_name": "Python 3",
   "language": "python",
   "name": "python3"
  },
  "language_info": {
   "codemirror_mode": {
    "name": "ipython",
    "version": 3
   },
   "file_extension": ".py",
   "mimetype": "text/x-python",
   "name": "python",
   "nbconvert_exporter": "python",
   "pygments_lexer": "ipython3",
   "version": "3.7.6"
  },
  "latex_envs": {
   "LaTeX_envs_menu_present": true,
   "autoclose": false,
   "autocomplete": true,
   "bibliofile": "biblio.bib",
   "cite_by": "apalike",
   "current_citInitial": 1,
   "eqLabelWithNumbers": true,
   "eqNumInitial": 1,
   "hotkeys": {
    "equation": "Ctrl-E",
    "itemize": "Ctrl-I"
   },
   "labels_anchors": false,
   "latex_user_defs": false,
   "report_style_numbering": false,
   "user_envs_cfg": false
  },
  "varInspector": {
   "cols": {
    "lenName": 16,
    "lenType": 16,
    "lenVar": 40
   },
   "kernels_config": {
    "python": {
     "delete_cmd_postfix": "",
     "delete_cmd_prefix": "del ",
     "library": "var_list.py",
     "varRefreshCmd": "print(var_dic_list())"
    },
    "r": {
     "delete_cmd_postfix": ") ",
     "delete_cmd_prefix": "rm(",
     "library": "var_list.r",
     "varRefreshCmd": "cat(var_dic_list()) "
    }
   },
   "types_to_exclude": [
    "module",
    "function",
    "builtin_function_or_method",
    "instance",
    "_Feature"
   ],
   "window_display": false
  }
 },
 "nbformat": 4,
 "nbformat_minor": 4
}
